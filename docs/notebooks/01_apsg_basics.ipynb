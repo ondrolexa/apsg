{
 "cells": [
  {
   "cell_type": "markdown",
   "metadata": {},
   "source": [
    "# APSG tutorial - Part 1"
   ]
  },
  {
   "cell_type": "markdown",
   "metadata": {},
   "source": [
    "**APSG** defines several new python classes to easily manage, analyze and visualize orientation structural geology data. There are several classes to work with orientation data, namely `Vector3` for vectorial data and `Lineation`, `Foliation` for axial data"
   ]
  },
  {
   "cell_type": "markdown",
   "metadata": {},
   "source": [
    "## Basic usage"
   ]
  },
  {
   "cell_type": "markdown",
   "metadata": {},
   "source": [
    "**APSG** module could be imported either into own name space or into active one for easier interactive work."
   ]
  },
  {
   "cell_type": "code",
   "execution_count": 1,
   "metadata": {
    "execution": {
     "iopub.execute_input": "2025-10-30T21:05:05.673853Z",
     "iopub.status.busy": "2025-10-30T21:05:05.673734Z",
     "iopub.status.idle": "2025-10-30T21:05:06.229739Z",
     "shell.execute_reply": "2025-10-30T21:05:06.229337Z"
    },
    "scrolled": true
   },
   "outputs": [],
   "source": [
    "from apsg import *"
   ]
  },
  {
   "cell_type": "markdown",
   "metadata": {},
   "source": [
    "### Basic operations with vectors in 2D and 3D\n",
    "Instance of vector object `Vector3` could be created by passing 3 arguments correspondig to 3 components to function `vec`:"
   ]
  },
  {
   "cell_type": "code",
   "execution_count": 2,
   "metadata": {
    "execution": {
     "iopub.execute_input": "2025-10-30T21:05:06.231279Z",
     "iopub.status.busy": "2025-10-30T21:05:06.231104Z",
     "iopub.status.idle": "2025-10-30T21:05:06.233162Z",
     "shell.execute_reply": "2025-10-30T21:05:06.232875Z"
    }
   },
   "outputs": [],
   "source": [
    "u = vec(1, -2, 3)\n",
    "v = vec(-2, 1, 1)"
   ]
  },
  {
   "cell_type": "markdown",
   "metadata": {},
   "source": [
    "Alternative ways to create vector is to pass single iterable object as list, tuple or array, or to provide geological orientation according to **APSG** notation (default is *direction of dip* and *dip angle* for planar and *trend* and *plunge* for linear features)"
   ]
  },
  {
   "cell_type": "code",
   "execution_count": 3,
   "metadata": {
    "execution": {
     "iopub.execute_input": "2025-10-30T21:05:06.234456Z",
     "iopub.status.busy": "2025-10-30T21:05:06.234210Z",
     "iopub.status.idle": "2025-10-30T21:05:06.236478Z",
     "shell.execute_reply": "2025-10-30T21:05:06.236203Z"
    }
   },
   "outputs": [
    {
     "name": "stdout",
     "output_type": "stream",
     "text": [
      "Vector3(-2, 2, 3) Vector3(-0.25, 0.433, 0.866)\n"
     ]
    }
   ],
   "source": [
    "coords = (-2, 2, 3)\n",
    "a = vec(coords)\n",
    "b = vec(120, 60)\n",
    "print(a, b)"
   ]
  },
  {
   "cell_type": "markdown",
   "metadata": {},
   "source": [
    "The instance of 2D vector `Vector2` could be created passing 2 arguments correspondig to 2 components or single iterable with components to function `vec2`:"
   ]
  },
  {
   "cell_type": "code",
   "execution_count": 4,
   "metadata": {
    "execution": {
     "iopub.execute_input": "2025-10-30T21:05:06.259275Z",
     "iopub.status.busy": "2025-10-30T21:05:06.259129Z",
     "iopub.status.idle": "2025-10-30T21:05:06.261451Z",
     "shell.execute_reply": "2025-10-30T21:05:06.261186Z"
    }
   },
   "outputs": [
    {
     "name": "stdout",
     "output_type": "stream",
     "text": [
      "Vector2(1, 1) Vector2(-1, 2)\n"
     ]
    }
   ],
   "source": [
    "k = vec2(1, 1)\n",
    "coords = (-1, 2)\n",
    "l = vec2(coords)\n",
    "print(k, l)"
   ]
  },
  {
   "cell_type": "markdown",
   "metadata": {},
   "source": [
    "Alternatively, single argument is interpreted as direction in degrees (0-top, 90-right, 180-down, 270-left)"
   ]
  },
  {
   "cell_type": "code",
   "execution_count": 5,
   "metadata": {
    "execution": {
     "iopub.execute_input": "2025-10-30T21:05:06.262747Z",
     "iopub.status.busy": "2025-10-30T21:05:06.262517Z",
     "iopub.status.idle": "2025-10-30T21:05:06.266126Z",
     "shell.execute_reply": "2025-10-30T21:05:06.265878Z"
    }
   },
   "outputs": [
    {
     "data": {
      "text/plain": [
       "Vector2(-2.5, 4.33)"
      ]
     },
     "execution_count": 5,
     "metadata": {},
     "output_type": "execute_result"
    }
   ],
   "source": [
    "m = 5 * vec2(120)\n",
    "m"
   ]
  },
  {
   "cell_type": "markdown",
   "metadata": {},
   "source": [
    "For common vector operation we can use standard mathematical operators or special methods using dot notation"
   ]
  },
  {
   "cell_type": "code",
   "execution_count": 6,
   "metadata": {
    "execution": {
     "iopub.execute_input": "2025-10-30T21:05:06.267301Z",
     "iopub.status.busy": "2025-10-30T21:05:06.267187Z",
     "iopub.status.idle": "2025-10-30T21:05:06.269475Z",
     "shell.execute_reply": "2025-10-30T21:05:06.269226Z"
    }
   },
   "outputs": [
    {
     "data": {
      "text/plain": [
       "Vector3(-1, -1, 4)"
      ]
     },
     "execution_count": 6,
     "metadata": {},
     "output_type": "execute_result"
    }
   ],
   "source": [
    "u + v"
   ]
  },
  {
   "cell_type": "code",
   "execution_count": 7,
   "metadata": {
    "execution": {
     "iopub.execute_input": "2025-10-30T21:05:06.270698Z",
     "iopub.status.busy": "2025-10-30T21:05:06.270514Z",
     "iopub.status.idle": "2025-10-30T21:05:06.272675Z",
     "shell.execute_reply": "2025-10-30T21:05:06.272433Z"
    }
   },
   "outputs": [
    {
     "data": {
      "text/plain": [
       "Vector3(3, -3, 2)"
      ]
     },
     "execution_count": 7,
     "metadata": {},
     "output_type": "execute_result"
    }
   ],
   "source": [
    "u - v"
   ]
  },
  {
   "cell_type": "code",
   "execution_count": 8,
   "metadata": {
    "execution": {
     "iopub.execute_input": "2025-10-30T21:05:06.273967Z",
     "iopub.status.busy": "2025-10-30T21:05:06.273664Z",
     "iopub.status.idle": "2025-10-30T21:05:06.275977Z",
     "shell.execute_reply": "2025-10-30T21:05:06.275703Z"
    }
   },
   "outputs": [
    {
     "data": {
      "text/plain": [
       "Vector3(7, -8, 7)"
      ]
     },
     "execution_count": 8,
     "metadata": {},
     "output_type": "execute_result"
    }
   ],
   "source": [
    "3*u - 2*v"
   ]
  },
  {
   "cell_type": "markdown",
   "metadata": {},
   "source": [
    "Its magnitude or length is most commonly defined as its Euclidean norm and could be calculated using `abs`"
   ]
  },
  {
   "cell_type": "code",
   "execution_count": 9,
   "metadata": {
    "execution": {
     "iopub.execute_input": "2025-10-30T21:05:06.277273Z",
     "iopub.status.busy": "2025-10-30T21:05:06.277053Z",
     "iopub.status.idle": "2025-10-30T21:05:06.279253Z",
     "shell.execute_reply": "2025-10-30T21:05:06.279014Z"
    }
   },
   "outputs": [
    {
     "data": {
      "text/plain": [
       "2.449489742783178"
      ]
     },
     "execution_count": 9,
     "metadata": {},
     "output_type": "execute_result"
    }
   ],
   "source": [
    "abs(v)"
   ]
  },
  {
   "cell_type": "code",
   "execution_count": 10,
   "metadata": {
    "execution": {
     "iopub.execute_input": "2025-10-30T21:05:06.280490Z",
     "iopub.status.busy": "2025-10-30T21:05:06.280268Z",
     "iopub.status.idle": "2025-10-30T21:05:06.282497Z",
     "shell.execute_reply": "2025-10-30T21:05:06.282253Z"
    }
   },
   "outputs": [
    {
     "data": {
      "text/plain": [
       "4.242640687119285"
      ]
     },
     "execution_count": 10,
     "metadata": {},
     "output_type": "execute_result"
    }
   ],
   "source": [
    "abs(u + v)"
   ]
  },
  {
   "cell_type": "markdown",
   "metadata": {},
   "source": [
    "For *dot product* we can use `dot` method or operator `@` "
   ]
  },
  {
   "cell_type": "code",
   "execution_count": 11,
   "metadata": {
    "execution": {
     "iopub.execute_input": "2025-10-30T21:05:06.283630Z",
     "iopub.status.busy": "2025-10-30T21:05:06.283448Z",
     "iopub.status.idle": "2025-10-30T21:05:06.285618Z",
     "shell.execute_reply": "2025-10-30T21:05:06.285376Z"
    }
   },
   "outputs": [
    {
     "data": {
      "text/plain": [
       "-1"
      ]
     },
     "execution_count": 11,
     "metadata": {},
     "output_type": "execute_result"
    }
   ],
   "source": [
    "u.dot(v)"
   ]
  },
  {
   "cell_type": "code",
   "execution_count": 12,
   "metadata": {
    "execution": {
     "iopub.execute_input": "2025-10-30T21:05:06.286758Z",
     "iopub.status.busy": "2025-10-30T21:05:06.286538Z",
     "iopub.status.idle": "2025-10-30T21:05:06.288620Z",
     "shell.execute_reply": "2025-10-30T21:05:06.288383Z"
    }
   },
   "outputs": [
    {
     "data": {
      "text/plain": [
       "-1.0"
      ]
     },
     "execution_count": 12,
     "metadata": {},
     "output_type": "execute_result"
    }
   ],
   "source": [
    "u @ v"
   ]
  },
  {
   "cell_type": "markdown",
   "metadata": {},
   "source": [
    "For *cross product* we can method `cross`"
   ]
  },
  {
   "cell_type": "code",
   "execution_count": 13,
   "metadata": {
    "execution": {
     "iopub.execute_input": "2025-10-30T21:05:06.289721Z",
     "iopub.status.busy": "2025-10-30T21:05:06.289500Z",
     "iopub.status.idle": "2025-10-30T21:05:06.291685Z",
     "shell.execute_reply": "2025-10-30T21:05:06.291446Z"
    }
   },
   "outputs": [
    {
     "data": {
      "text/plain": [
       "Vector3(-5, -7, -3)"
      ]
     },
     "execution_count": 13,
     "metadata": {},
     "output_type": "execute_result"
    }
   ],
   "source": [
    "u.cross(v)"
   ]
  },
  {
   "cell_type": "markdown",
   "metadata": {},
   "source": [
    "To project vector ``u`` onto vector ``v`` we can use method ``proj``"
   ]
  },
  {
   "cell_type": "code",
   "execution_count": 14,
   "metadata": {
    "execution": {
     "iopub.execute_input": "2025-10-30T21:05:06.292806Z",
     "iopub.status.busy": "2025-10-30T21:05:06.292579Z",
     "iopub.status.idle": "2025-10-30T21:05:06.294807Z",
     "shell.execute_reply": "2025-10-30T21:05:06.294570Z"
    }
   },
   "outputs": [
    {
     "data": {
      "text/plain": [
       "Vector3(0.333, -0.167, -0.167)"
      ]
     },
     "execution_count": 14,
     "metadata": {},
     "output_type": "execute_result"
    }
   ],
   "source": [
    "u.proj(v)"
   ]
  },
  {
   "cell_type": "markdown",
   "metadata": {},
   "source": [
    "To find angle (in degrees) between to vectors we use method ``angle``"
   ]
  },
  {
   "cell_type": "code",
   "execution_count": 15,
   "metadata": {
    "execution": {
     "iopub.execute_input": "2025-10-30T21:05:06.295913Z",
     "iopub.status.busy": "2025-10-30T21:05:06.295678Z",
     "iopub.status.idle": "2025-10-30T21:05:06.297913Z",
     "shell.execute_reply": "2025-10-30T21:05:06.297660Z"
    }
   },
   "outputs": [
    {
     "data": {
      "text/plain": [
       "96.26395271992722"
      ]
     },
     "execution_count": 15,
     "metadata": {},
     "output_type": "execute_result"
    }
   ],
   "source": [
    "u.angle(v)"
   ]
  },
  {
   "cell_type": "markdown",
   "metadata": {},
   "source": [
    "Method ``rotate`` provide possibility to rotate vector around another vector. For example, to rotate vector ``u`` around vector ``v`` for 45°"
   ]
  },
  {
   "cell_type": "code",
   "execution_count": 16,
   "metadata": {
    "execution": {
     "iopub.execute_input": "2025-10-30T21:05:06.298994Z",
     "iopub.status.busy": "2025-10-30T21:05:06.298764Z",
     "iopub.status.idle": "2025-10-30T21:05:06.301261Z",
     "shell.execute_reply": "2025-10-30T21:05:06.301016Z"
    }
   },
   "outputs": [
    {
     "data": {
      "text/plain": [
       "Vector3(2.248, 0.558, 2.939)"
      ]
     },
     "execution_count": 16,
     "metadata": {},
     "output_type": "execute_result"
    }
   ],
   "source": [
    "u.rotate(v, 45)"
   ]
  },
  {
   "cell_type": "markdown",
   "metadata": {},
   "source": [
    "## Classes Lineation and Foliation\n",
    "To work with orientation data in structural geology, **APSG** provide two classes, `Foliation` class to represent planar features and `Lineation` class to represent linear features. Both classes support all `Vector3` methods and operators, but it should be noted, that `dot` and `angle` respect their axial nature, i.e. angle between two lineations cant't be bigger than 90 degrees."
   ]
  },
  {
   "cell_type": "markdown",
   "metadata": {},
   "source": [
    "To create instance of `Lineation` or `Foliation`, we can use functions `lin` and `fol`. Arguments have similar syntax to `vec3`."
   ]
  },
  {
   "cell_type": "code",
   "execution_count": 17,
   "metadata": {
    "execution": {
     "iopub.execute_input": "2025-10-30T21:05:06.302397Z",
     "iopub.status.busy": "2025-10-30T21:05:06.302176Z",
     "iopub.status.idle": "2025-10-30T21:05:06.304403Z",
     "shell.execute_reply": "2025-10-30T21:05:06.304164Z"
    }
   },
   "outputs": [
    {
     "data": {
      "text/plain": [
       "(L:120/60, S:216/62)"
      ]
     },
     "execution_count": 17,
     "metadata": {},
     "output_type": "execute_result"
    }
   ],
   "source": [
    "lin(120, 60), fol(216, 62)"
   ]
  },
  {
   "cell_type": "markdown",
   "metadata": {},
   "source": [
    "We can also cast `Vector3` instance to `Foliation` or `Lineation`"
   ]
  },
  {
   "cell_type": "code",
   "execution_count": 18,
   "metadata": {
    "execution": {
     "iopub.execute_input": "2025-10-30T21:05:06.305500Z",
     "iopub.status.busy": "2025-10-30T21:05:06.305301Z",
     "iopub.status.idle": "2025-10-30T21:05:06.307567Z",
     "shell.execute_reply": "2025-10-30T21:05:06.307328Z"
    }
   },
   "outputs": [
    {
     "data": {
      "text/plain": [
       "(L:297/53, S:117/37)"
      ]
     },
     "execution_count": 18,
     "metadata": {},
     "output_type": "execute_result"
    }
   ],
   "source": [
    "lin(u), fol(u)"
   ]
  },
  {
   "cell_type": "markdown",
   "metadata": {},
   "source": [
    "### Vector methods for Lineation and Foliation"
   ]
  },
  {
   "cell_type": "markdown",
   "metadata": {},
   "source": [
    "\n",
    "To find angle between two linear or planar features we can use method `angle`"
   ]
  },
  {
   "cell_type": "code",
   "execution_count": 19,
   "metadata": {
    "execution": {
     "iopub.execute_input": "2025-10-30T21:05:06.308700Z",
     "iopub.status.busy": "2025-10-30T21:05:06.308482Z",
     "iopub.status.idle": "2025-10-30T21:05:06.310712Z",
     "shell.execute_reply": "2025-10-30T21:05:06.310476Z"
    }
   },
   "outputs": [
    {
     "data": {
      "text/plain": [
       "41.59741268003547"
      ]
     },
     "execution_count": 19,
     "metadata": {},
     "output_type": "execute_result"
    }
   ],
   "source": [
    "l1 = lin(110, 40)\n",
    "l2 = lin(160, 30)\n",
    "l1.angle(l2)"
   ]
  },
  {
   "cell_type": "code",
   "execution_count": 20,
   "metadata": {
    "execution": {
     "iopub.execute_input": "2025-10-30T21:05:06.311791Z",
     "iopub.status.busy": "2025-10-30T21:05:06.311558Z",
     "iopub.status.idle": "2025-10-30T21:05:06.313829Z",
     "shell.execute_reply": "2025-10-30T21:05:06.313584Z"
    }
   },
   "outputs": [
    {
     "data": {
      "text/plain": [
       "54.696399321975335"
      ]
     },
     "execution_count": 20,
     "metadata": {},
     "output_type": "execute_result"
    }
   ],
   "source": [
    "p1 = fol(330, 50)\n",
    "p2 = fol(250, 40)\n",
    "p1.angle(p2)"
   ]
  },
  {
   "cell_type": "markdown",
   "metadata": {},
   "source": [
    "We can use *cross product* to construct planar feature defined by two linear features"
   ]
  },
  {
   "cell_type": "code",
   "execution_count": 21,
   "metadata": {
    "execution": {
     "iopub.execute_input": "2025-10-30T21:05:06.314964Z",
     "iopub.status.busy": "2025-10-30T21:05:06.314701Z",
     "iopub.status.idle": "2025-10-30T21:05:06.316950Z",
     "shell.execute_reply": "2025-10-30T21:05:06.316707Z"
    }
   },
   "outputs": [
    {
     "data": {
      "text/plain": [
       "S:113/40"
      ]
     },
     "execution_count": 21,
     "metadata": {},
     "output_type": "execute_result"
    }
   ],
   "source": [
    "l1.cross(l2)"
   ]
  },
  {
   "cell_type": "markdown",
   "metadata": {},
   "source": [
    "or to construct linear feature defined by intersection of two planar features"
   ]
  },
  {
   "cell_type": "code",
   "execution_count": 22,
   "metadata": {
    "execution": {
     "iopub.execute_input": "2025-10-30T21:05:06.317955Z",
     "iopub.status.busy": "2025-10-30T21:05:06.317838Z",
     "iopub.status.idle": "2025-10-30T21:05:06.320079Z",
     "shell.execute_reply": "2025-10-30T21:05:06.319831Z"
    }
   },
   "outputs": [
    {
     "data": {
      "text/plain": [
       "L:278/36"
      ]
     },
     "execution_count": 22,
     "metadata": {},
     "output_type": "execute_result"
    }
   ],
   "source": [
    "p1.cross(p2)"
   ]
  },
  {
   "cell_type": "markdown",
   "metadata": {},
   "source": [
    "*Cross product* of planar and linear features could be used to construct plane defined by linear feature and normal of planar feature"
   ]
  },
  {
   "cell_type": "code",
   "execution_count": 23,
   "metadata": {
    "execution": {
     "iopub.execute_input": "2025-10-30T21:05:06.321181Z",
     "iopub.status.busy": "2025-10-30T21:05:06.320952Z",
     "iopub.status.idle": "2025-10-30T21:05:06.323177Z",
     "shell.execute_reply": "2025-10-30T21:05:06.322934Z"
    }
   },
   "outputs": [
    {
     "data": {
      "text/plain": [
       "S:96/53"
      ]
     },
     "execution_count": 23,
     "metadata": {},
     "output_type": "execute_result"
    }
   ],
   "source": [
    "l2.cross(p2)"
   ]
  },
  {
   "cell_type": "markdown",
   "metadata": {},
   "source": [
    "or to find perpendicular linear feature on given plane"
   ]
  },
  {
   "cell_type": "code",
   "execution_count": 24,
   "metadata": {
    "execution": {
     "iopub.execute_input": "2025-10-30T21:05:06.324251Z",
     "iopub.status.busy": "2025-10-30T21:05:06.324070Z",
     "iopub.status.idle": "2025-10-30T21:05:06.326247Z",
     "shell.execute_reply": "2025-10-30T21:05:06.326002Z"
    }
   },
   "outputs": [
    {
     "data": {
      "text/plain": [
       "L:276/37"
      ]
     },
     "execution_count": 24,
     "metadata": {},
     "output_type": "execute_result"
    }
   ],
   "source": [
    "p2.cross(l2)"
   ]
  },
  {
   "cell_type": "markdown",
   "metadata": {},
   "source": [
    "To rotate structural features we can use method ``rotate``"
   ]
  },
  {
   "cell_type": "code",
   "execution_count": 25,
   "metadata": {
    "execution": {
     "iopub.execute_input": "2025-10-30T21:05:06.327395Z",
     "iopub.status.busy": "2025-10-30T21:05:06.327133Z",
     "iopub.status.idle": "2025-10-30T21:05:06.329444Z",
     "shell.execute_reply": "2025-10-30T21:05:06.329200Z"
    }
   },
   "outputs": [
    {
     "data": {
      "text/plain": [
       "S:269/78"
      ]
     },
     "execution_count": 25,
     "metadata": {},
     "output_type": "execute_result"
    }
   ],
   "source": [
    "p2.rotate(l2, 45)"
   ]
  },
  {
   "cell_type": "markdown",
   "metadata": {},
   "source": [
    "## Classes Pair and Fault\n",
    "To work with paired orientation data like foliations and lineations or fault data in structural geology, **APSG** provide two base `Pair` class and derived `Fault` class. Both classes are instantiated providing dip direction and dip of planar and linear measurements, which are automatically orthogonalized. If misfit is too high, warning is raised. The `Fault` class expects one more argument providing sense of movement information, either 1 or -1 for normal/reverse movement."
   ]
  },
  {
   "cell_type": "markdown",
   "metadata": {},
   "source": [
    "To create instance of `Pair`, we have to pass two arguments for planar and two argumets for linear features following geological notation to function `pair`:"
   ]
  },
  {
   "cell_type": "code",
   "execution_count": 26,
   "metadata": {
    "execution": {
     "iopub.execute_input": "2025-10-30T21:05:06.330589Z",
     "iopub.status.busy": "2025-10-30T21:05:06.330362Z",
     "iopub.status.idle": "2025-10-30T21:05:06.332853Z",
     "shell.execute_reply": "2025-10-30T21:05:06.332610Z"
    }
   },
   "outputs": [
    {
     "data": {
      "text/plain": [
       "P:118/39-163/30"
      ]
     },
     "execution_count": 26,
     "metadata": {},
     "output_type": "execute_result"
    }
   ],
   "source": [
    "p = pair(120, 40, 162, 28)\n",
    "p"
   ]
  },
  {
   "cell_type": "code",
   "execution_count": 27,
   "metadata": {
    "execution": {
     "iopub.execute_input": "2025-10-30T21:05:06.333897Z",
     "iopub.status.busy": "2025-10-30T21:05:06.333694Z",
     "iopub.status.idle": "2025-10-30T21:05:06.335846Z",
     "shell.execute_reply": "2025-10-30T21:05:06.335610Z"
    }
   },
   "outputs": [
    {
     "data": {
      "text/plain": [
       "3.5623168411508175"
      ]
     },
     "execution_count": 27,
     "metadata": {},
     "output_type": "execute_result"
    }
   ],
   "source": [
    "p.misfit"
   ]
  },
  {
   "cell_type": "markdown",
   "metadata": {},
   "source": [
    "Planar and linear features are accessible using `fol` and `lin` properties"
   ]
  },
  {
   "cell_type": "code",
   "execution_count": 28,
   "metadata": {
    "execution": {
     "iopub.execute_input": "2025-10-30T21:05:06.336914Z",
     "iopub.status.busy": "2025-10-30T21:05:06.336714Z",
     "iopub.status.idle": "2025-10-30T21:05:06.338934Z",
     "shell.execute_reply": "2025-10-30T21:05:06.338702Z"
    }
   },
   "outputs": [
    {
     "data": {
      "text/plain": [
       "(S:118/39, L:163/30)"
      ]
     },
     "execution_count": 28,
     "metadata": {},
     "output_type": "execute_result"
    }
   ],
   "source": [
    "p.fol, p.lin"
   ]
  },
  {
   "cell_type": "markdown",
   "metadata": {},
   "source": [
    "To rotate ``Pair`` instance we can use ``rotate`` method"
   ]
  },
  {
   "cell_type": "code",
   "execution_count": 29,
   "metadata": {
    "execution": {
     "iopub.execute_input": "2025-10-30T21:05:06.339997Z",
     "iopub.status.busy": "2025-10-30T21:05:06.339808Z",
     "iopub.status.idle": "2025-10-30T21:05:06.342365Z",
     "shell.execute_reply": "2025-10-30T21:05:06.342126Z"
    }
   },
   "outputs": [
    {
     "data": {
      "text/plain": [
       "P:314/83-237/61"
      ]
     },
     "execution_count": 29,
     "metadata": {},
     "output_type": "execute_result"
    }
   ],
   "source": [
    "p.rotate(lin(45, 10), 60)"
   ]
  },
  {
   "cell_type": "markdown",
   "metadata": {},
   "source": [
    "Instantiation of ``Fault`` class is similar, we just have to provide argument to define sense of movement"
   ]
  },
  {
   "cell_type": "code",
   "execution_count": 30,
   "metadata": {
    "execution": {
     "iopub.execute_input": "2025-10-30T21:05:06.343441Z",
     "iopub.status.busy": "2025-10-30T21:05:06.343238Z",
     "iopub.status.idle": "2025-10-30T21:05:06.345862Z",
     "shell.execute_reply": "2025-10-30T21:05:06.345622Z"
    }
   },
   "outputs": [
    {
     "data": {
      "text/plain": [
       "F:120/59-110/59 N"
      ]
     },
     "execution_count": 30,
     "metadata": {},
     "output_type": "execute_result"
    }
   ],
   "source": [
    "f = fault(120, 60, 110, 58, 1)  # 1 for normal fault\n",
    "f"
   ]
  },
  {
   "cell_type": "markdown",
   "metadata": {},
   "source": [
    "Note the change in sense of movement after ``Fault`` rotation"
   ]
  },
  {
   "cell_type": "code",
   "execution_count": 31,
   "metadata": {
    "execution": {
     "iopub.execute_input": "2025-10-30T21:05:06.346962Z",
     "iopub.status.busy": "2025-10-30T21:05:06.346740Z",
     "iopub.status.idle": "2025-10-30T21:05:06.349436Z",
     "shell.execute_reply": "2025-10-30T21:05:06.349180Z"
    }
   },
   "outputs": [
    {
     "data": {
      "text/plain": [
       "F:312/62-340/59 R"
      ]
     },
     "execution_count": 31,
     "metadata": {},
     "output_type": "execute_result"
    }
   ],
   "source": [
    "f.rotate(lin(45, 10), 60)"
   ]
  },
  {
   "cell_type": "markdown",
   "metadata": {},
   "source": [
    "For simple fault analyses ``Fault`` class also provide ``p``, ``t``, ``m`` and ``d`` properties to get PT-axes, kinematic plane and dihedra separation plane"
   ]
  },
  {
   "cell_type": "code",
   "execution_count": 32,
   "metadata": {
    "execution": {
     "iopub.execute_input": "2025-10-30T21:05:06.350553Z",
     "iopub.status.busy": "2025-10-30T21:05:06.350330Z",
     "iopub.status.idle": "2025-10-30T21:05:06.352806Z",
     "shell.execute_reply": "2025-10-30T21:05:06.352567Z"
    }
   },
   "outputs": [
    {
     "data": {
      "text/plain": [
       "(L:315/75, L:116/14, S:27/85, S:290/31)"
      ]
     },
     "execution_count": 32,
     "metadata": {},
     "output_type": "execute_result"
    }
   ],
   "source": [
    "f.p, f.t, f.m, f.d"
   ]
  },
  {
   "cell_type": "markdown",
   "metadata": {},
   "source": [
    "## Class Cone\n",
    "General feature type to store small or great circles as cone. It could be defined by `axis`, `secant` and `revolving angle` or by `axis` and `apical angle` The revolving angle is by default 360° defining full cone. For segments of small circles, the `revolving angle` could be different."
   ]
  },
  {
   "cell_type": "code",
   "execution_count": 33,
   "metadata": {
    "execution": {
     "iopub.execute_input": "2025-10-30T21:05:06.353911Z",
     "iopub.status.busy": "2025-10-30T21:05:06.353662Z",
     "iopub.status.idle": "2025-10-30T21:05:06.356030Z",
     "shell.execute_reply": "2025-10-30T21:05:06.355779Z"
    }
   },
   "outputs": [
    {
     "data": {
      "text/plain": [
       "C:140/50 [25]"
      ]
     },
     "execution_count": 33,
     "metadata": {},
     "output_type": "execute_result"
    }
   ],
   "source": [
    "c = cone(lin(140, 50), lin(140, 75))\n",
    "c"
   ]
  },
  {
   "cell_type": "markdown",
   "metadata": {},
   "source": [
    "To create small circle segment, you can provide `revolving angle`"
   ]
  },
  {
   "cell_type": "code",
   "execution_count": 34,
   "metadata": {
    "execution": {
     "iopub.execute_input": "2025-10-30T21:05:06.357112Z",
     "iopub.status.busy": "2025-10-30T21:05:06.356897Z",
     "iopub.status.idle": "2025-10-30T21:05:06.358761Z",
     "shell.execute_reply": "2025-10-30T21:05:06.358480Z"
    }
   },
   "outputs": [],
   "source": [
    "c = cone(lin(90, 70), lin(45,30), 115)"
   ]
  },
  {
   "cell_type": "markdown",
   "metadata": {},
   "source": [
    "The tips of small circle segments could be obtained from cone property `secant` and `rotated_secant`"
   ]
  },
  {
   "cell_type": "code",
   "execution_count": 35,
   "metadata": {
    "execution": {
     "iopub.execute_input": "2025-10-30T21:05:06.359862Z",
     "iopub.status.busy": "2025-10-30T21:05:06.359632Z",
     "iopub.status.idle": "2025-10-30T21:05:06.361988Z",
     "shell.execute_reply": "2025-10-30T21:05:06.361738Z"
    }
   },
   "outputs": [
    {
     "data": {
      "text/plain": [
       "(L:45/30, L:137/30)"
      ]
     },
     "execution_count": 35,
     "metadata": {},
     "output_type": "execute_result"
    }
   ],
   "source": [
    "lin(c.secant), lin(c.rotated_secant)"
   ]
  },
  {
   "cell_type": "markdown",
   "metadata": {},
   "source": [
    "To define cone using `apical angle`, use `axis` amd number arguments. Note, that `revolving angle` is 360 by default"
   ]
  },
  {
   "cell_type": "code",
   "execution_count": 36,
   "metadata": {
    "execution": {
     "iopub.execute_input": "2025-10-30T21:05:06.363054Z",
     "iopub.status.busy": "2025-10-30T21:05:06.362846Z",
     "iopub.status.idle": "2025-10-30T21:05:06.365167Z",
     "shell.execute_reply": "2025-10-30T21:05:06.364930Z"
    }
   },
   "outputs": [
    {
     "data": {
      "text/plain": [
       "C:140/50 [25]"
      ]
     },
     "execution_count": 36,
     "metadata": {},
     "output_type": "execute_result"
    }
   ],
   "source": [
    "c = cone(lin(140, 50), 25)\n",
    "c"
   ]
  },
  {
   "cell_type": "code",
   "execution_count": 37,
   "metadata": {
    "execution": {
     "iopub.execute_input": "2025-10-30T21:05:06.366232Z",
     "iopub.status.busy": "2025-10-30T21:05:06.366001Z",
     "iopub.status.idle": "2025-10-30T21:05:06.368153Z",
     "shell.execute_reply": "2025-10-30T21:05:06.367912Z"
    }
   },
   "outputs": [
    {
     "data": {
      "text/plain": [
       "360.0"
      ]
     },
     "execution_count": 37,
     "metadata": {},
     "output_type": "execute_result"
    }
   ],
   "source": [
    "c.revangle"
   ]
  },
  {
   "cell_type": "markdown",
   "metadata": {},
   "source": [
    "## Feature sets\n",
    "*APSG* provide several classes to process, analyze and visualize the sets of data. There are e.g. `vecset`, `linset` and `folset` classes to store group of `vec`, `lin` and `fol` objects. All these feature sets are created from homogeneous list of data with optional `name` atribute."
   ]
  },
  {
   "cell_type": "code",
   "execution_count": 38,
   "metadata": {
    "execution": {
     "iopub.execute_input": "2025-10-30T21:05:06.369253Z",
     "iopub.status.busy": "2025-10-30T21:05:06.369036Z",
     "iopub.status.idle": "2025-10-30T21:05:06.371395Z",
     "shell.execute_reply": "2025-10-30T21:05:06.371145Z"
    }
   },
   "outputs": [
    {
     "data": {
      "text/plain": [
       "V3(5) Vectors"
      ]
     },
     "execution_count": 38,
     "metadata": {},
     "output_type": "execute_result"
    }
   ],
   "source": [
    "v = vecset([vec(120,60), vec(116,50), vec(132,45), vec(90,60), vec(84,52)], name='Vectors')\n",
    "v"
   ]
  },
  {
   "cell_type": "code",
   "execution_count": 39,
   "metadata": {
    "execution": {
     "iopub.execute_input": "2025-10-30T21:05:06.372441Z",
     "iopub.status.busy": "2025-10-30T21:05:06.372218Z",
     "iopub.status.idle": "2025-10-30T21:05:06.374592Z",
     "shell.execute_reply": "2025-10-30T21:05:06.374354Z"
    }
   },
   "outputs": [
    {
     "data": {
      "text/plain": [
       "L(5) Lineations"
      ]
     },
     "execution_count": 39,
     "metadata": {},
     "output_type": "execute_result"
    }
   ],
   "source": [
    "l = linset([lin(120,60), lin(116,50), lin(132,45), lin(90,60), lin(84,52)], name='Lineations')\n",
    "l"
   ]
  },
  {
   "cell_type": "code",
   "execution_count": 40,
   "metadata": {
    "execution": {
     "iopub.execute_input": "2025-10-30T21:05:06.375627Z",
     "iopub.status.busy": "2025-10-30T21:05:06.375445Z",
     "iopub.status.idle": "2025-10-30T21:05:06.377835Z",
     "shell.execute_reply": "2025-10-30T21:05:06.377597Z"
    }
   },
   "outputs": [
    {
     "data": {
      "text/plain": [
       "S(5) Foliations"
      ]
     },
     "execution_count": 40,
     "metadata": {},
     "output_type": "execute_result"
    }
   ],
   "source": [
    "f = folset([fol(120,60), fol(116,50), fol(132,45), fol(90,60), fol(84,52)], name='Foliations')\n",
    "f"
   ]
  },
  {
   "cell_type": "markdown",
   "metadata": {},
   "source": [
    "To simplify interactive group creation, you can use function ``G``"
   ]
  },
  {
   "cell_type": "code",
   "execution_count": 41,
   "metadata": {
    "execution": {
     "iopub.execute_input": "2025-10-30T21:05:06.378958Z",
     "iopub.status.busy": "2025-10-30T21:05:06.378714Z",
     "iopub.status.idle": "2025-10-30T21:05:06.381119Z",
     "shell.execute_reply": "2025-10-30T21:05:06.380879Z"
    }
   },
   "outputs": [
    {
     "data": {
      "text/plain": [
       "L(5) L1"
      ]
     },
     "execution_count": 41,
     "metadata": {},
     "output_type": "execute_result"
    }
   ],
   "source": [
    "g = G([lin(120,60), lin(116,50), lin(132,45), lin(90,60), lin(84,52)], name='L1')\n",
    "g"
   ]
  },
  {
   "cell_type": "markdown",
   "metadata": {},
   "source": [
    "Method ``len`` returns number of features in group"
   ]
  },
  {
   "cell_type": "code",
   "execution_count": 42,
   "metadata": {
    "execution": {
     "iopub.execute_input": "2025-10-30T21:05:06.382101Z",
     "iopub.status.busy": "2025-10-30T21:05:06.381989Z",
     "iopub.status.idle": "2025-10-30T21:05:06.384165Z",
     "shell.execute_reply": "2025-10-30T21:05:06.383923Z"
    }
   },
   "outputs": [
    {
     "data": {
      "text/plain": [
       "5"
      ]
     },
     "execution_count": 42,
     "metadata": {},
     "output_type": "execute_result"
    }
   ],
   "source": [
    "len(v)"
   ]
  },
  {
   "cell_type": "markdown",
   "metadata": {},
   "source": [
    "Most of the `vec`, `lin` and `fol` methods could be used for feature sets as well. For example, to measure angles between all features in group and another feature, we can use method `angle`:"
   ]
  },
  {
   "cell_type": "code",
   "execution_count": 43,
   "metadata": {
    "execution": {
     "iopub.execute_input": "2025-10-30T21:05:06.385222Z",
     "iopub.status.busy": "2025-10-30T21:05:06.385040Z",
     "iopub.status.idle": "2025-10-30T21:05:06.387430Z",
     "shell.execute_reply": "2025-10-30T21:05:06.387185Z"
    }
   },
   "outputs": [
    {
     "data": {
      "text/plain": [
       "array([11.49989817,  3.85569115, 15.61367789, 15.11039885, 16.3947936 ])"
      ]
     },
     "execution_count": 43,
     "metadata": {},
     "output_type": "execute_result"
    }
   ],
   "source": [
    "l.angle(lin(110,50))"
   ]
  },
  {
   "cell_type": "markdown",
   "metadata": {},
   "source": [
    "To rotate all features in group around another feature, we can use method ``rotate``"
   ]
  },
  {
   "cell_type": "code",
   "execution_count": 44,
   "metadata": {
    "execution": {
     "iopub.execute_input": "2025-10-30T21:05:06.388490Z",
     "iopub.status.busy": "2025-10-30T21:05:06.388295Z",
     "iopub.status.idle": "2025-10-30T21:05:06.390349Z",
     "shell.execute_reply": "2025-10-30T21:05:06.390104Z"
    }
   },
   "outputs": [],
   "source": [
    "lr = l.rotate(lin(150, 30), 45)"
   ]
  },
  {
   "cell_type": "markdown",
   "metadata": {},
   "source": [
    "To show data in list you can use ``data`` property"
   ]
  },
  {
   "cell_type": "code",
   "execution_count": 45,
   "metadata": {
    "execution": {
     "iopub.execute_input": "2025-10-30T21:05:06.391429Z",
     "iopub.status.busy": "2025-10-30T21:05:06.391213Z",
     "iopub.status.idle": "2025-10-30T21:05:06.393442Z",
     "shell.execute_reply": "2025-10-30T21:05:06.393203Z"
    }
   },
   "outputs": [
    {
     "data": {
      "text/plain": [
       "(L:120/60, L:116/50, L:132/45, L:90/60, L:84/52)"
      ]
     },
     "execution_count": 45,
     "metadata": {},
     "output_type": "execute_result"
    }
   ],
   "source": [
    "l.data"
   ]
  },
  {
   "cell_type": "code",
   "execution_count": 46,
   "metadata": {
    "execution": {
     "iopub.execute_input": "2025-10-30T21:05:06.394505Z",
     "iopub.status.busy": "2025-10-30T21:05:06.394280Z",
     "iopub.status.idle": "2025-10-30T21:05:06.396492Z",
     "shell.execute_reply": "2025-10-30T21:05:06.396253Z"
    }
   },
   "outputs": [
    {
     "data": {
      "text/plain": [
       "(L:107/35, L:113/26, L:126/30, L:93/26, L:94/18)"
      ]
     },
     "execution_count": 46,
     "metadata": {},
     "output_type": "execute_result"
    }
   ],
   "source": [
    "lr.data"
   ]
  },
  {
   "cell_type": "markdown",
   "metadata": {},
   "source": [
    "Function `R` returns resultant of all features in set. Note that `Lineation` and `Foliation` are axial in nature, so resultant vector is not reliable. Check the orientation tensor anlysis below."
   ]
  },
  {
   "cell_type": "code",
   "execution_count": 47,
   "metadata": {
    "execution": {
     "iopub.execute_input": "2025-10-30T21:05:06.397564Z",
     "iopub.status.busy": "2025-10-30T21:05:06.397367Z",
     "iopub.status.idle": "2025-10-30T21:05:06.399568Z",
     "shell.execute_reply": "2025-10-30T21:05:06.399325Z"
    }
   },
   "outputs": [
    {
     "data": {
      "text/plain": [
       "Vector3(-0.941, 2.649, 3.993)"
      ]
     },
     "execution_count": 47,
     "metadata": {},
     "output_type": "execute_result"
    }
   ],
   "source": [
    "v.R()"
   ]
  },
  {
   "cell_type": "code",
   "execution_count": 48,
   "metadata": {
    "execution": {
     "iopub.execute_input": "2025-10-30T21:05:06.400604Z",
     "iopub.status.busy": "2025-10-30T21:05:06.400412Z",
     "iopub.status.idle": "2025-10-30T21:05:06.402674Z",
     "shell.execute_reply": "2025-10-30T21:05:06.402436Z"
    }
   },
   "outputs": [
    {
     "data": {
      "text/plain": [
       "L:110/55"
      ]
     },
     "execution_count": 48,
     "metadata": {},
     "output_type": "execute_result"
    }
   ],
   "source": [
    "lin(v.R())"
   ]
  },
  {
   "cell_type": "markdown",
   "metadata": {},
   "source": [
    "There is several methods to infer spherical statistics as spherical variance, Fisher's statistics, confidence cones on data etc."
   ]
  },
  {
   "cell_type": "code",
   "execution_count": 49,
   "metadata": {
    "execution": {
     "iopub.execute_input": "2025-10-30T21:05:06.403751Z",
     "iopub.status.busy": "2025-10-30T21:05:06.403550Z",
     "iopub.status.idle": "2025-10-30T21:05:06.405835Z",
     "shell.execute_reply": "2025-10-30T21:05:06.405598Z"
    }
   },
   "outputs": [
    {
     "data": {
      "text/plain": [
       "0.02337168447438498"
      ]
     },
     "execution_count": 49,
     "metadata": {},
     "output_type": "execute_result"
    }
   ],
   "source": [
    "l.var()"
   ]
  },
  {
   "cell_type": "code",
   "execution_count": 50,
   "metadata": {
    "execution": {
     "iopub.execute_input": "2025-10-30T21:05:06.406918Z",
     "iopub.status.busy": "2025-10-30T21:05:06.406701Z",
     "iopub.status.idle": "2025-10-30T21:05:06.408961Z",
     "shell.execute_reply": "2025-10-30T21:05:06.408717Z"
    }
   },
   "outputs": [
    {
     "data": {
      "text/plain": [
       "{'k': 34.22945405911087,\n",
       " 'a95': 13.26402990511733,\n",
       " 'csd': np.float64(13.844747281750971)}"
      ]
     },
     "execution_count": 50,
     "metadata": {},
     "output_type": "execute_result"
    }
   ],
   "source": [
    "v.fisher_statistics()"
   ]
  },
  {
   "cell_type": "code",
   "execution_count": 51,
   "metadata": {
    "execution": {
     "iopub.execute_input": "2025-10-30T21:05:06.409978Z",
     "iopub.status.busy": "2025-10-30T21:05:06.409789Z",
     "iopub.status.idle": "2025-10-30T21:05:06.412124Z",
     "shell.execute_reply": "2025-10-30T21:05:06.411876Z"
    }
   },
   "outputs": [
    {
     "data": {
      "text/plain": [
       "C:110/55 [13.264]"
      ]
     },
     "execution_count": 51,
     "metadata": {},
     "output_type": "execute_result"
    }
   ],
   "source": [
    "v.fisher_cone_a95()"
   ]
  },
  {
   "cell_type": "code",
   "execution_count": 52,
   "metadata": {
    "execution": {
     "iopub.execute_input": "2025-10-30T21:05:06.413145Z",
     "iopub.status.busy": "2025-10-30T21:05:06.412945Z",
     "iopub.status.idle": "2025-10-30T21:05:06.415323Z",
     "shell.execute_reply": "2025-10-30T21:05:06.415084Z"
    }
   },
   "outputs": [
    {
     "data": {
      "text/plain": [
       "C:110/55 [13.8447]"
      ]
     },
     "execution_count": 52,
     "metadata": {},
     "output_type": "execute_result"
    }
   ],
   "source": [
    "v.fisher_cone_csd()"
   ]
  },
  {
   "cell_type": "code",
   "execution_count": 53,
   "metadata": {
    "execution": {
     "iopub.execute_input": "2025-10-30T21:05:06.416406Z",
     "iopub.status.busy": "2025-10-30T21:05:06.416180Z",
     "iopub.status.idle": "2025-10-30T21:05:06.418350Z",
     "shell.execute_reply": "2025-10-30T21:05:06.418109Z"
    }
   },
   "outputs": [
    {
     "data": {
      "text/plain": [
       "12.411724720740516"
      ]
     },
     "execution_count": 53,
     "metadata": {},
     "output_type": "execute_result"
    }
   ],
   "source": [
    "v.delta()"
   ]
  },
  {
   "cell_type": "code",
   "execution_count": 54,
   "metadata": {
    "execution": {
     "iopub.execute_input": "2025-10-30T21:05:06.419412Z",
     "iopub.status.busy": "2025-10-30T21:05:06.419185Z",
     "iopub.status.idle": "2025-10-30T21:05:06.421377Z",
     "shell.execute_reply": "2025-10-30T21:05:06.421135Z"
    }
   },
   "outputs": [
    {
     "data": {
      "text/plain": [
       "95.32566310512297"
      ]
     },
     "execution_count": 54,
     "metadata": {},
     "output_type": "execute_result"
    }
   ],
   "source": [
    "v.rdegree()"
   ]
  },
  {
   "cell_type": "markdown",
   "metadata": {},
   "source": [
    "To calculate orientation tensor of all features in group, we can use `ortensor` method."
   ]
  },
  {
   "cell_type": "code",
   "execution_count": 55,
   "metadata": {
    "execution": {
     "iopub.execute_input": "2025-10-30T21:05:06.422427Z",
     "iopub.status.busy": "2025-10-30T21:05:06.422245Z",
     "iopub.status.idle": "2025-10-30T21:05:06.424726Z",
     "shell.execute_reply": "2025-10-30T21:05:06.424477Z"
    }
   },
   "outputs": [
    {
     "data": {
      "text/plain": [
       "OrientationTensor3\n",
       "[[ 0.074 -0.096 -0.143]\n",
       " [-0.096  0.284  0.421]\n",
       " [-0.143  0.421  0.642]]\n",
       "(S1:0.977, S2:0.201, S3:0.0758)"
      ]
     },
     "execution_count": 55,
     "metadata": {},
     "output_type": "execute_result"
    }
   ],
   "source": [
    "v.ortensor()"
   ]
  },
  {
   "cell_type": "code",
   "execution_count": null,
   "metadata": {},
   "outputs": [],
   "source": []
  }
 ],
 "metadata": {
  "kernelspec": {
   "display_name": "Python 3 (ipykernel)",
   "language": "python",
   "name": "python3"
  },
  "language_info": {
   "codemirror_mode": {
    "name": "ipython",
    "version": 3
   },
   "file_extension": ".py",
   "mimetype": "text/x-python",
   "name": "python",
   "nbconvert_exporter": "python",
   "pygments_lexer": "ipython3",
   "version": "3.13.3"
  }
 },
 "nbformat": 4,
 "nbformat_minor": 4
}
