{
 "cells": [
  {
   "cell_type": "markdown",
   "metadata": {},
   "source": [
    "# APSG tutorial - Part 2"
   ]
  },
  {
   "cell_type": "code",
   "execution_count": 1,
   "metadata": {
    "execution": {
     "iopub.execute_input": "2025-09-24T14:37:10.299291Z",
     "iopub.status.busy": "2025-09-24T14:37:10.299167Z",
     "iopub.status.idle": "2025-09-24T14:37:10.849082Z",
     "shell.execute_reply": "2025-09-24T14:37:10.848613Z"
    },
    "tags": []
   },
   "outputs": [],
   "source": [
    "from apsg import *"
   ]
  },
  {
   "cell_type": "markdown",
   "metadata": {},
   "source": [
    "## Matrix like classes and tensors\n",
    "**APSG** provides matrix-like classes to work with tensor quantities used commonly in structural geology analysis. It includes `DefGrad3` and `VelGrad3` for deformation and velocity gradient, `Stress3` for stress tensor, `Ellipsoid` for quadratic forms and `Ortensor3` for orientation tensor. All these classes support common matrix mathematical operations and provide basic methods and properties.\n",
    "\n",
    "All matrix-like objects could be created either by passing nested list or tuple or providing individual components to class method `from_comp`"
   ]
  },
  {
   "cell_type": "code",
   "execution_count": 2,
   "metadata": {
    "execution": {
     "iopub.execute_input": "2025-09-24T14:37:10.850748Z",
     "iopub.status.busy": "2025-09-24T14:37:10.850582Z",
     "iopub.status.idle": "2025-09-24T14:37:10.854729Z",
     "shell.execute_reply": "2025-09-24T14:37:10.854462Z"
    },
    "tags": []
   },
   "outputs": [
    {
     "data": {
      "text/plain": [
       "DeformationGradient3\n",
       "[[2.  0.  1. ]\n",
       " [0.  1.  0. ]\n",
       " [0.  0.  0.5]]"
      ]
     },
     "execution_count": 2,
     "metadata": {},
     "output_type": "execute_result"
    }
   ],
   "source": [
    "F = defgrad([[2, 0, 1], [0, 1, 0], [0, 0, 0.5]])\n",
    "F"
   ]
  },
  {
   "cell_type": "code",
   "execution_count": 3,
   "metadata": {
    "execution": {
     "iopub.execute_input": "2025-09-24T14:37:10.876741Z",
     "iopub.status.busy": "2025-09-24T14:37:10.876593Z",
     "iopub.status.idle": "2025-09-24T14:37:10.879512Z",
     "shell.execute_reply": "2025-09-24T14:37:10.879249Z"
    },
    "tags": []
   },
   "outputs": [
    {
     "data": {
      "text/plain": [
       "DeformationGradient3\n",
       "[[2.  0.  1. ]\n",
       " [0.  1.  0. ]\n",
       " [0.  0.  0.5]]"
      ]
     },
     "execution_count": 3,
     "metadata": {},
     "output_type": "execute_result"
    }
   ],
   "source": [
    "F = defgrad.from_comp(xx=2, zz=0.5, xz=1)\n",
    "F"
   ]
  },
  {
   "cell_type": "markdown",
   "metadata": {},
   "source": [
    "For multiplifications of matrix or vectors we have to use matmul `@` operator"
   ]
  },
  {
   "cell_type": "code",
   "execution_count": 4,
   "metadata": {
    "execution": {
     "iopub.execute_input": "2025-09-24T14:37:10.880680Z",
     "iopub.status.busy": "2025-09-24T14:37:10.880565Z",
     "iopub.status.idle": "2025-09-24T14:37:10.882989Z",
     "shell.execute_reply": "2025-09-24T14:37:10.882743Z"
    },
    "tags": []
   },
   "outputs": [
    {
     "data": {
      "text/plain": [
       "Vector3(1, 0, 0.5)"
      ]
     },
     "execution_count": 4,
     "metadata": {},
     "output_type": "execute_result"
    }
   ],
   "source": [
    "v = vec('z') # unit-length vector in direction af axis z\n",
    "u = F @ v\n",
    "u"
   ]
  },
  {
   "cell_type": "markdown",
   "metadata": {},
   "source": [
    "`I` property returns inverse matrix"
   ]
  },
  {
   "cell_type": "code",
   "execution_count": 5,
   "metadata": {
    "execution": {
     "iopub.execute_input": "2025-09-24T14:37:10.884096Z",
     "iopub.status.busy": "2025-09-24T14:37:10.883959Z",
     "iopub.status.idle": "2025-09-24T14:37:10.906274Z",
     "shell.execute_reply": "2025-09-24T14:37:10.906006Z"
    },
    "tags": []
   },
   "outputs": [
    {
     "data": {
      "text/plain": [
       "Vector3(0, 0, 1)"
      ]
     },
     "execution_count": 5,
     "metadata": {},
     "output_type": "execute_result"
    }
   ],
   "source": [
    "F.I @ u"
   ]
  },
  {
   "cell_type": "markdown",
   "metadata": {},
   "source": [
    "To transpose matrix, we can use `T` property and for multiplification we have to use `@` operator"
   ]
  },
  {
   "cell_type": "code",
   "execution_count": 6,
   "metadata": {
    "execution": {
     "iopub.execute_input": "2025-09-24T14:37:10.907564Z",
     "iopub.status.busy": "2025-09-24T14:37:10.907446Z",
     "iopub.status.idle": "2025-09-24T14:37:10.910051Z",
     "shell.execute_reply": "2025-09-24T14:37:10.909775Z"
    },
    "tags": []
   },
   "outputs": [
    {
     "data": {
      "text/plain": [
       "DeformationGradient3\n",
       "[[4.   0.   2.  ]\n",
       " [0.   1.   0.  ]\n",
       " [2.   0.   1.25]]"
      ]
     },
     "execution_count": 6,
     "metadata": {},
     "output_type": "execute_result"
    }
   ],
   "source": [
    "F.T @ F"
   ]
  },
  {
   "cell_type": "code",
   "execution_count": 7,
   "metadata": {
    "execution": {
     "iopub.execute_input": "2025-09-24T14:37:10.911176Z",
     "iopub.status.busy": "2025-09-24T14:37:10.911061Z",
     "iopub.status.idle": "2025-09-24T14:37:10.913283Z",
     "shell.execute_reply": "2025-09-24T14:37:10.913025Z"
    },
    "tags": []
   },
   "outputs": [
    {
     "data": {
      "text/plain": [
       "1.25"
      ]
     },
     "execution_count": 7,
     "metadata": {},
     "output_type": "execute_result"
    }
   ],
   "source": [
    "v @ F.T @ F @ v"
   ]
  },
  {
   "cell_type": "markdown",
   "metadata": {},
   "source": [
    "Eigenvalues and eigenvectors could be obtained by methods `eigenvalues` and `eigenvectors`. Individual eigenvalues and eigen vectors could be accessed by properties `E1`, `E2`, `E3` and `V1`, `V2`, `V3`"
   ]
  },
  {
   "cell_type": "markdown",
   "metadata": {},
   "source": [
    "#### Deformation gradient and rotations\n",
    "\n",
    "Deformation gradient `DeformationGradient3` could describe distorsion, dilation and rigid-body rotation. All **APSG** features provides `transform` method which transform then using provided deformation gradient.\n",
    "\n",
    "The rigid-body rotation could be either extracted from deformation gradient using `R` method:"
   ]
  },
  {
   "cell_type": "code",
   "execution_count": 8,
   "metadata": {
    "execution": {
     "iopub.execute_input": "2025-09-24T14:37:10.914550Z",
     "iopub.status.busy": "2025-09-24T14:37:10.914435Z",
     "iopub.status.idle": "2025-09-24T14:37:10.965753Z",
     "shell.execute_reply": "2025-09-24T14:37:10.965474Z"
    },
    "tags": []
   },
   "outputs": [
    {
     "data": {
      "text/plain": [
       "DeformationGradient3\n",
       "[[ 0.928  0.     0.371]\n",
       " [ 0.     1.     0.   ]\n",
       " [-0.371  0.     0.928]]"
      ]
     },
     "execution_count": 8,
     "metadata": {},
     "output_type": "execute_result"
    }
   ],
   "source": [
    "R = F.R\n",
    "R"
   ]
  },
  {
   "cell_type": "markdown",
   "metadata": {},
   "source": [
    "or could be created of one of the class methods like `from_axisangle`, defining axis of rotation and angle"
   ]
  },
  {
   "cell_type": "code",
   "execution_count": 9,
   "metadata": {
    "execution": {
     "iopub.execute_input": "2025-09-24T14:37:10.967025Z",
     "iopub.status.busy": "2025-09-24T14:37:10.966899Z",
     "iopub.status.idle": "2025-09-24T14:37:10.969635Z",
     "shell.execute_reply": "2025-09-24T14:37:10.969384Z"
    },
    "tags": []
   },
   "outputs": [
    {
     "data": {
      "text/plain": [
       "DeformationGradient3\n",
       "[[ 0.552 -0.753  0.359]\n",
       " [ 0.574  0.655  0.492]\n",
       " [-0.605 -0.065  0.793]]"
      ]
     },
     "execution_count": 9,
     "metadata": {},
     "output_type": "execute_result"
    }
   ],
   "source": [
    "R = defgrad.from_axisangle(lin(120, 50), 60)\n",
    "R"
   ]
  },
  {
   "cell_type": "markdown",
   "metadata": {},
   "source": [
    "`from_two_vectors`, where axis of rotation is perpendicular to both vectors and angle is angle of vectors"
   ]
  },
  {
   "cell_type": "code",
   "execution_count": 10,
   "metadata": {
    "execution": {
     "iopub.execute_input": "2025-09-24T14:37:10.970911Z",
     "iopub.status.busy": "2025-09-24T14:37:10.970686Z",
     "iopub.status.idle": "2025-09-24T14:37:10.973432Z",
     "shell.execute_reply": "2025-09-24T14:37:10.973174Z"
    },
    "tags": []
   },
   "outputs": [
    {
     "data": {
      "text/plain": [
       "DeformationGradient3\n",
       "[[ 0.938  0.074  0.339]\n",
       " [ 0.186  0.718 -0.671]\n",
       " [-0.294  0.692  0.66 ]]"
      ]
     },
     "execution_count": 10,
     "metadata": {},
     "output_type": "execute_result"
    }
   ],
   "source": [
    "R = defgrad.from_two_vectors(lin(120, 50), lin(270, 80))\n",
    "R"
   ]
  },
  {
   "cell_type": "code",
   "execution_count": 11,
   "metadata": {
    "execution": {
     "iopub.execute_input": "2025-09-24T14:37:10.974471Z",
     "iopub.status.busy": "2025-09-24T14:37:10.974355Z",
     "iopub.status.idle": "2025-09-24T14:37:10.976620Z",
     "shell.execute_reply": "2025-09-24T14:37:10.976375Z"
    },
    "tags": []
   },
   "outputs": [
    {
     "data": {
      "text/plain": [
       "L:270/80"
      ]
     },
     "execution_count": 11,
     "metadata": {},
     "output_type": "execute_result"
    }
   ],
   "source": [
    "lin(120, 50).transform(R)"
   ]
  },
  {
   "cell_type": "markdown",
   "metadata": {},
   "source": [
    "or by `from_vectors_axis`, where `axis` do not need to by perpendicular to vectors. Note that rotation axis needs to be adjusted to provide correct rotation of vector."
   ]
  },
  {
   "cell_type": "code",
   "execution_count": 12,
   "metadata": {
    "execution": {
     "iopub.execute_input": "2025-09-24T14:37:10.977884Z",
     "iopub.status.busy": "2025-09-24T14:37:10.977677Z",
     "iopub.status.idle": "2025-09-24T14:37:10.980356Z",
     "shell.execute_reply": "2025-09-24T14:37:10.980109Z"
    },
    "tags": []
   },
   "outputs": [
    {
     "data": {
      "text/plain": [
       "DeformationGradient3\n",
       "[[-0.393 -0.864  0.315]\n",
       " [ 0.864 -0.23   0.448]\n",
       " [-0.315  0.448  0.837]]"
      ]
     },
     "execution_count": 12,
     "metadata": {},
     "output_type": "execute_result"
    }
   ],
   "source": [
    "R = defgrad.from_vectors_axis(lin(45,30), lin(135, 30), lin(90, 70))\n",
    "R"
   ]
  },
  {
   "cell_type": "code",
   "execution_count": 13,
   "metadata": {
    "execution": {
     "iopub.execute_input": "2025-09-24T14:37:10.981487Z",
     "iopub.status.busy": "2025-09-24T14:37:10.981372Z",
     "iopub.status.idle": "2025-09-24T14:37:10.983650Z",
     "shell.execute_reply": "2025-09-24T14:37:10.983405Z"
    },
    "tags": []
   },
   "outputs": [
    {
     "data": {
      "text/plain": [
       "L:135/30"
      ]
     },
     "execution_count": 13,
     "metadata": {},
     "output_type": "execute_result"
    }
   ],
   "source": [
    "lin(45,30).transform(R)"
   ]
  },
  {
   "cell_type": "code",
   "execution_count": 14,
   "metadata": {
    "execution": {
     "iopub.execute_input": "2025-09-24T14:37:10.984855Z",
     "iopub.status.busy": "2025-09-24T14:37:10.984636Z",
     "iopub.status.idle": "2025-09-24T14:37:11.015036Z",
     "shell.execute_reply": "2025-09-24T14:37:11.014671Z"
    },
    "tags": []
   },
   "outputs": [
    {
     "name": "stdout",
     "output_type": "stream",
     "text": [
      "L:90/70 113.11571469196132\n"
     ]
    }
   ],
   "source": [
    "a, ang = R.axisangle()\n",
    "print(lin(a), ang)"
   ]
  },
  {
   "cell_type": "markdown",
   "metadata": {},
   "source": [
    "`from_two_pairs` method, to describe rotation between two coordinate systems. Note that pair define X axis as lineation vector and Z axis as foliation vector."
   ]
  },
  {
   "cell_type": "code",
   "execution_count": 15,
   "metadata": {
    "execution": {
     "iopub.execute_input": "2025-09-24T14:37:11.016238Z",
     "iopub.status.busy": "2025-09-24T14:37:11.016118Z",
     "iopub.status.idle": "2025-09-24T14:37:11.019825Z",
     "shell.execute_reply": "2025-09-24T14:37:11.019579Z"
    },
    "tags": []
   },
   "outputs": [
    {
     "data": {
      "text/plain": [
       "DeformationGradient3\n",
       "[[-0.071  0.97   0.234]\n",
       " [-0.874 -0.174  0.453]\n",
       " [ 0.48  -0.173  0.86 ]]"
      ]
     },
     "execution_count": 15,
     "metadata": {},
     "output_type": "execute_result"
    }
   ],
   "source": [
    "p1 = pair(150, 60, 90, 40)\n",
    "p2 = pair(45, 30, 10, 25)\n",
    "R = defgrad.from_two_pairs(p1, p2)\n",
    "R"
   ]
  },
  {
   "cell_type": "code",
   "execution_count": 16,
   "metadata": {
    "execution": {
     "iopub.execute_input": "2025-09-24T14:37:11.021089Z",
     "iopub.status.busy": "2025-09-24T14:37:11.020842Z",
     "iopub.status.idle": "2025-09-24T14:37:11.023354Z",
     "shell.execute_reply": "2025-09-24T14:37:11.023099Z"
    },
    "tags": []
   },
   "outputs": [
    {
     "data": {
      "text/plain": [
       "P:45/30-10/25"
      ]
     },
     "execution_count": 16,
     "metadata": {},
     "output_type": "execute_result"
    }
   ],
   "source": [
    "p1.transform(R)"
   ]
  },
  {
   "cell_type": "markdown",
   "metadata": {},
   "source": [
    "### Ellipsoid\n",
    "\n",
    "In deformation analysis, the quadratic forms are represented by `Ellipsoid` class. It could be used to represents either ellipsoid objects or finite strain ellipsoid.\n",
    "\n",
    "It provides additional methods and properties including `lambda1`, `lambda2` and `lambda3` for square-root of eigenvalues, Woodcock's `shape` and `strength`, `k`, `K`, `d` and `D` for Flinn's and Ramsay symmetries and intensities, `lode` for Lode's parameter etc. For more check documentation. Eigenvectors could be also represented by linear or planar features using properties `eigenlins` and `eigenfols`.\n",
    "\n",
    "We can create `Ellipsoid` object similarly to `Matrix3` (note that only components of upper triangular part are available in `from_comp` method due to matrix symmetry), or you can use aditional class methods `from_defgrad` and `from_stretch`."
   ]
  },
  {
   "cell_type": "code",
   "execution_count": 17,
   "metadata": {
    "execution": {
     "iopub.execute_input": "2025-09-24T14:37:11.024525Z",
     "iopub.status.busy": "2025-09-24T14:37:11.024412Z",
     "iopub.status.idle": "2025-09-24T14:37:11.026884Z",
     "shell.execute_reply": "2025-09-24T14:37:11.026640Z"
    },
    "tags": []
   },
   "outputs": [
    {
     "data": {
      "text/plain": [
       "Ellipsoid\n",
       "[[5.   0.   0.5 ]\n",
       " [0.   1.   0.  ]\n",
       " [0.5  0.   0.25]]\n",
       "(S1:2.25, S2:1, S3:0.445)"
      ]
     },
     "execution_count": 17,
     "metadata": {},
     "output_type": "execute_result"
    }
   ],
   "source": [
    "B = ellipsoid.from_defgrad(F)  # Finger deformation tensor\n",
    "B"
   ]
  },
  {
   "cell_type": "markdown",
   "metadata": {},
   "source": [
    "In above example, the Finger deformation tensor `B` represents finite strain ellipsoid reulting from deformation described by deformation gradient `F`. We can explore several parameters:"
   ]
  },
  {
   "cell_type": "code",
   "execution_count": 18,
   "metadata": {
    "execution": {
     "iopub.execute_input": "2025-09-24T14:37:11.028152Z",
     "iopub.status.busy": "2025-09-24T14:37:11.027940Z",
     "iopub.status.idle": "2025-09-24T14:37:11.030670Z",
     "shell.execute_reply": "2025-09-24T14:37:11.030390Z"
    },
    "tags": []
   },
   "outputs": [
    {
     "name": "stdout",
     "output_type": "stream",
     "text": [
      "Principal stretches: Sx=2.2476790206496235, Sy=1.0, Sz=0.44490338291762865\n",
      "Principal strain ratios: Rxy=2.2476790206496235, Ryz=2.2476790206496235\n",
      "Flinn's finite strain parameters: d=1.7644845924910786, k=1.0\n",
      "Ramsay's finite strain parameters: d=1.3118699860194973, k=1.0\n",
      "Woodcock's parameters: strength=1.6197962748565002, shape=1.0\n",
      "Watterson's strain intesity: s3.495358041299247\n",
      "Nadai's natural octahedral unit shear: 1.3225581202197996\n",
      "Nadai's natural octahedral unit strain: 1.14536893009174\n",
      "Lode's parameter: 0.0\n"
     ]
    }
   ],
   "source": [
    "print(f'Principal stretches: Sx={B.S1}, Sy={B.S2}, Sz={B.S3}')\n",
    "print(f'Principal strain ratios: Rxy={B.Rxy}, Ryz={B.Ryz}')\n",
    "print(f\"Flinn's finite strain parameters: d={B.d}, k={B.k}\")\n",
    "print(f\"Ramsay's finite strain parameters: d={B.D}, k={B.K}\")\n",
    "print(f\"Woodcock's parameters: strength={B.strength}, shape={B.shape}\")\n",
    "print(f\"Watterson's strain intesity: s{B.r}\")\n",
    "print(f\"Nadai's natural octahedral unit shear: {B.goct}\")\n",
    "print(f\"Nadai's natural octahedral unit strain: {B.eoct}\")\n",
    "print(f\"Lode's parameter: {B.lode}\")"
   ]
  },
  {
   "cell_type": "code",
   "execution_count": 19,
   "metadata": {
    "execution": {
     "iopub.execute_input": "2025-09-24T14:37:11.031930Z",
     "iopub.status.busy": "2025-09-24T14:37:11.031702Z",
     "iopub.status.idle": "2025-09-24T14:37:11.034136Z",
     "shell.execute_reply": "2025-09-24T14:37:11.033888Z"
    },
    "tags": []
   },
   "outputs": [
    {
     "data": {
      "text/plain": [
       "Ellipsoid\n",
       "[[4.   0.   2.  ]\n",
       " [0.   1.   0.  ]\n",
       " [2.   0.   1.25]]\n",
       "(S1:2.25, S2:1, S3:0.445)"
      ]
     },
     "execution_count": 19,
     "metadata": {},
     "output_type": "execute_result"
    }
   ],
   "source": [
    "C = ellipsoid.from_defgrad(F, 'right')  # Green's deformation tensor\n",
    "C"
   ]
  },
  {
   "cell_type": "code",
   "execution_count": 20,
   "metadata": {
    "execution": {
     "iopub.execute_input": "2025-09-24T14:37:11.035201Z",
     "iopub.status.busy": "2025-09-24T14:37:11.035086Z",
     "iopub.status.idle": "2025-09-24T14:37:11.037303Z",
     "shell.execute_reply": "2025-09-24T14:37:11.037060Z"
    },
    "tags": []
   },
   "outputs": [
    {
     "data": {
      "text/plain": [
       "1.25"
      ]
     },
     "execution_count": 20,
     "metadata": {},
     "output_type": "execute_result"
    }
   ],
   "source": [
    "v @ C @ v"
   ]
  },
  {
   "cell_type": "markdown",
   "metadata": {},
   "source": [
    "### Orientation tensor\n",
    "`OrientationTensor3` class represents orientation tensor of set of vectors, linear or planar features. In adition to `Ellipsoid` methods and properties, it provides properties to describe orientation distribution, e.g. Vollmer's `P`, `G`, `R` and `B` indexes, `Intensity` for Lisle intensity index and `MAD` for approximate angular deviation."
   ]
  },
  {
   "cell_type": "code",
   "execution_count": 21,
   "metadata": {
    "execution": {
     "iopub.execute_input": "2025-09-24T14:37:11.038459Z",
     "iopub.status.busy": "2025-09-24T14:37:11.038253Z",
     "iopub.status.idle": "2025-09-24T14:37:11.046053Z",
     "shell.execute_reply": "2025-09-24T14:37:11.045792Z"
    },
    "tags": []
   },
   "outputs": [
    {
     "data": {
      "text/plain": [
       "OrientationTensor3\n",
       "[[ 0.179 -0.211 -0.207]\n",
       " [-0.211  0.442  0.369]\n",
       " [-0.207  0.369  0.379]]\n",
       "(S1:0.95, S2:0.249, S3:0.19)"
      ]
     },
     "execution_count": 21,
     "metadata": {},
     "output_type": "execute_result"
    }
   ],
   "source": [
    "l = linset.random_fisher(position=lin(120,40))\n",
    "ot = l.ortensor()\n",
    "# or\n",
    "ot = ortensor.from_features(l)\n",
    "ot"
   ]
  },
  {
   "cell_type": "code",
   "execution_count": 22,
   "metadata": {
    "execution": {
     "iopub.execute_input": "2025-09-24T14:37:11.047144Z",
     "iopub.status.busy": "2025-09-24T14:37:11.047028Z",
     "iopub.status.idle": "2025-09-24T14:37:11.049512Z",
     "shell.execute_reply": "2025-09-24T14:37:11.049263Z"
    },
    "tags": []
   },
   "outputs": [
    {
     "data": {
      "text/plain": [
       "array([0.90214885, 0.0618688 , 0.03598235])"
      ]
     },
     "execution_count": 22,
     "metadata": {},
     "output_type": "execute_result"
    }
   ],
   "source": [
    "ot.eigenvalues()"
   ]
  },
  {
   "cell_type": "code",
   "execution_count": 23,
   "metadata": {
    "execution": {
     "iopub.execute_input": "2025-09-24T14:37:11.050625Z",
     "iopub.status.busy": "2025-09-24T14:37:11.050412Z",
     "iopub.status.idle": "2025-09-24T14:37:11.052610Z",
     "shell.execute_reply": "2025-09-24T14:37:11.052362Z"
    },
    "tags": []
   },
   "outputs": [
    {
     "data": {
      "text/plain": [
       "(Vector3(-0.379, 0.679, 0.629),\n",
       " Vector3(0.859, 0.511, -0.034),\n",
       " Vector3(0.344, -0.527, 0.777))"
      ]
     },
     "execution_count": 23,
     "metadata": {},
     "output_type": "execute_result"
    }
   ],
   "source": [
    "ot.eigenvectors()"
   ]
  },
  {
   "cell_type": "code",
   "execution_count": 24,
   "metadata": {
    "execution": {
     "iopub.execute_input": "2025-09-24T14:37:11.053678Z",
     "iopub.status.busy": "2025-09-24T14:37:11.053564Z",
     "iopub.status.idle": "2025-09-24T14:37:11.055747Z",
     "shell.execute_reply": "2025-09-24T14:37:11.055504Z"
    },
    "tags": []
   },
   "outputs": [
    {
     "data": {
      "text/plain": [
       "'LLS'"
      ]
     },
     "execution_count": 24,
     "metadata": {},
     "output_type": "execute_result"
    }
   ],
   "source": [
    "ot.kind"
   ]
  },
  {
   "cell_type": "markdown",
   "metadata": {},
   "source": [
    "The instances of `Stress3`, `Ellipsoid` and `OrientationTensor3` also provides `eigenlins` and `eigenfols` properties to represent principal axes and planes"
   ]
  },
  {
   "cell_type": "code",
   "execution_count": 25,
   "metadata": {
    "execution": {
     "iopub.execute_input": "2025-09-24T14:37:11.056969Z",
     "iopub.status.busy": "2025-09-24T14:37:11.056750Z",
     "iopub.status.idle": "2025-09-24T14:37:11.059048Z",
     "shell.execute_reply": "2025-09-24T14:37:11.058785Z"
    },
    "tags": []
   },
   "outputs": [
    {
     "data": {
      "text/plain": [
       "(L:119/39, L:211/2, L:303/51)"
      ]
     },
     "execution_count": 25,
     "metadata": {},
     "output_type": "execute_result"
    }
   ],
   "source": [
    "ot.eigenlins()"
   ]
  },
  {
   "cell_type": "code",
   "execution_count": 26,
   "metadata": {
    "execution": {
     "iopub.execute_input": "2025-09-24T14:37:11.060233Z",
     "iopub.status.busy": "2025-09-24T14:37:11.059970Z",
     "iopub.status.idle": "2025-09-24T14:37:11.062250Z",
     "shell.execute_reply": "2025-09-24T14:37:11.062006Z"
    },
    "tags": []
   },
   "outputs": [
    {
     "data": {
      "text/plain": [
       "(S:299/51, S:31/88, S:123/39)"
      ]
     },
     "execution_count": 26,
     "metadata": {},
     "output_type": "execute_result"
    }
   ],
   "source": [
    "ot.eigenfols()"
   ]
  },
  {
   "cell_type": "code",
   "execution_count": 27,
   "metadata": {
    "execution": {
     "iopub.execute_input": "2025-09-24T14:37:11.063340Z",
     "iopub.status.busy": "2025-09-24T14:37:11.063225Z",
     "iopub.status.idle": "2025-09-24T14:37:11.065557Z",
     "shell.execute_reply": "2025-09-24T14:37:11.065312Z"
    },
    "tags": []
   },
   "outputs": [
    {
     "data": {
      "text/plain": [
       "(1.6108755340150451, 4.944326005763203)"
      ]
     },
     "execution_count": 27,
     "metadata": {},
     "output_type": "execute_result"
    }
   ],
   "source": [
    "ot.strength, ot.shape"
   ]
  },
  {
   "cell_type": "code",
   "execution_count": 28,
   "metadata": {
    "execution": {
     "iopub.execute_input": "2025-09-24T14:37:11.066580Z",
     "iopub.status.busy": "2025-09-24T14:37:11.066466Z",
     "iopub.status.idle": "2025-09-24T14:37:11.068613Z",
     "shell.execute_reply": "2025-09-24T14:37:11.068371Z"
    },
    "tags": []
   },
   "outputs": [
    {
     "data": {
      "text/plain": [
       "(9.055223646958394, 2.8357269066656983)"
      ]
     },
     "execution_count": 28,
     "metadata": {},
     "output_type": "execute_result"
    }
   ],
   "source": [
    "ot.k, ot.d"
   ]
  },
  {
   "cell_type": "code",
   "execution_count": 29,
   "metadata": {
    "execution": {
     "iopub.execute_input": "2025-09-24T14:37:11.069788Z",
     "iopub.status.busy": "2025-09-24T14:37:11.069566Z",
     "iopub.status.idle": "2025-09-24T14:37:11.071682Z",
     "shell.execute_reply": "2025-09-24T14:37:11.071441Z"
    },
    "tags": []
   },
   "outputs": [
    {
     "data": {
      "text/plain": [
       "(4.944326005763203, 1.8687206859419483)"
      ]
     },
     "execution_count": 29,
     "metadata": {},
     "output_type": "execute_result"
    }
   ],
   "source": [
    "ot.K, ot.D"
   ]
  },
  {
   "cell_type": "code",
   "execution_count": 30,
   "metadata": {
    "execution": {
     "iopub.execute_input": "2025-09-24T14:37:11.072856Z",
     "iopub.status.busy": "2025-09-24T14:37:11.072650Z",
     "iopub.status.idle": "2025-09-24T14:37:11.074787Z",
     "shell.execute_reply": "2025-09-24T14:37:11.074548Z"
    },
    "tags": []
   },
   "outputs": [
    {
     "data": {
      "text/plain": [
       "(0.8402800455115945, 0.05177291320399845, 0.10794704128440638)"
      ]
     },
     "execution_count": 30,
     "metadata": {},
     "output_type": "execute_result"
    }
   ],
   "source": [
    "ot.P, ot.G, ot.R"
   ]
  },
  {
   "cell_type": "code",
   "execution_count": 31,
   "metadata": {
    "execution": {
     "iopub.execute_input": "2025-09-24T14:37:11.075928Z",
     "iopub.status.busy": "2025-09-24T14:37:11.075695Z",
     "iopub.status.idle": "2025-09-24T14:37:11.077897Z",
     "shell.execute_reply": "2025-09-24T14:37:11.077655Z"
    },
    "tags": []
   },
   "outputs": [
    {
     "data": {
      "text/plain": [
       "18.228757699048067"
      ]
     },
     "execution_count": 31,
     "metadata": {},
     "output_type": "execute_result"
    }
   ],
   "source": [
    "ot.MAD"
   ]
  },
  {
   "cell_type": "code",
   "execution_count": null,
   "metadata": {},
   "outputs": [],
   "source": []
  }
 ],
 "metadata": {
  "kernelspec": {
   "display_name": "Python 3 (ipykernel)",
   "language": "python",
   "name": "python3"
  },
  "language_info": {
   "codemirror_mode": {
    "name": "ipython",
    "version": 3
   },
   "file_extension": ".py",
   "mimetype": "text/x-python",
   "name": "python",
   "nbconvert_exporter": "python",
   "pygments_lexer": "ipython3",
   "version": "3.13.3"
  }
 },
 "nbformat": 4,
 "nbformat_minor": 4
}
