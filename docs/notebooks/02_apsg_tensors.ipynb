{
 "cells": [
  {
   "cell_type": "markdown",
   "metadata": {},
   "source": [
    "# APSG tutorial - Part 2"
   ]
  },
  {
   "cell_type": "code",
   "execution_count": 1,
   "metadata": {
    "execution": {
     "iopub.execute_input": "2024-11-19T12:58:10.278677Z",
     "iopub.status.busy": "2024-11-19T12:58:10.278470Z",
     "iopub.status.idle": "2024-11-19T12:58:10.909069Z",
     "shell.execute_reply": "2024-11-19T12:58:10.908603Z"
    },
    "tags": []
   },
   "outputs": [],
   "source": [
    "from apsg import *"
   ]
  },
  {
   "cell_type": "markdown",
   "metadata": {},
   "source": [
    "## Matrix like classes and tensors\n",
    "**APSG** provides matrix-like classes to work with tensor quantities used commonly in structural geology analysis. It includes `DefGrad3` and `VelGrad3` for deformation and velocity gradient, `Stress3` for stress tensor, `Ellipsoid` for quadratic forms and `Ortensor3` for orientation tensor. All these classes support common matrix mathematical operations and provide basic methods and properties.\n",
    "\n",
    "All matrix-like objects could be created either by passing nested list or tuple or providing individual components to class method `from_comp`"
   ]
  },
  {
   "cell_type": "code",
   "execution_count": 2,
   "metadata": {
    "execution": {
     "iopub.execute_input": "2024-11-19T12:58:10.910665Z",
     "iopub.status.busy": "2024-11-19T12:58:10.910446Z",
     "iopub.status.idle": "2024-11-19T12:58:10.915165Z",
     "shell.execute_reply": "2024-11-19T12:58:10.914763Z"
    },
    "tags": []
   },
   "outputs": [
    {
     "data": {
      "text/plain": [
       "DeformationGradient3\n",
       "[[2.  0.  1. ]\n",
       " [0.  1.  0. ]\n",
       " [0.  0.  0.5]]"
      ]
     },
     "execution_count": 2,
     "metadata": {},
     "output_type": "execute_result"
    }
   ],
   "source": [
    "F = defgrad([[2, 0, 1], [0, 1, 0], [0, 0, 0.5]])\n",
    "F"
   ]
  },
  {
   "cell_type": "code",
   "execution_count": 3,
   "metadata": {
    "execution": {
     "iopub.execute_input": "2024-11-19T12:58:10.941776Z",
     "iopub.status.busy": "2024-11-19T12:58:10.941572Z",
     "iopub.status.idle": "2024-11-19T12:58:10.944791Z",
     "shell.execute_reply": "2024-11-19T12:58:10.944473Z"
    },
    "tags": []
   },
   "outputs": [
    {
     "data": {
      "text/plain": [
       "DeformationGradient3\n",
       "[[2.  0.  1. ]\n",
       " [0.  1.  0. ]\n",
       " [0.  0.  0.5]]"
      ]
     },
     "execution_count": 3,
     "metadata": {},
     "output_type": "execute_result"
    }
   ],
   "source": [
    "F = defgrad.from_comp(xx=2, zz=0.5, xz=1)\n",
    "F"
   ]
  },
  {
   "cell_type": "markdown",
   "metadata": {},
   "source": [
    "For multiplifications of matrix or vectors we have to use matmul `@` operator"
   ]
  },
  {
   "cell_type": "code",
   "execution_count": 4,
   "metadata": {
    "execution": {
     "iopub.execute_input": "2024-11-19T12:58:10.946009Z",
     "iopub.status.busy": "2024-11-19T12:58:10.945882Z",
     "iopub.status.idle": "2024-11-19T12:58:10.948693Z",
     "shell.execute_reply": "2024-11-19T12:58:10.948394Z"
    },
    "tags": []
   },
   "outputs": [
    {
     "data": {
      "text/plain": [
       "Vector3(1, 0, 0.5)"
      ]
     },
     "execution_count": 4,
     "metadata": {},
     "output_type": "execute_result"
    }
   ],
   "source": [
    "v = vec('z') # unit-length vector in direction af axis z\n",
    "u = F @ v\n",
    "u"
   ]
  },
  {
   "cell_type": "markdown",
   "metadata": {},
   "source": [
    "`I` property returns inverse matrix"
   ]
  },
  {
   "cell_type": "code",
   "execution_count": 5,
   "metadata": {
    "execution": {
     "iopub.execute_input": "2024-11-19T12:58:10.949933Z",
     "iopub.status.busy": "2024-11-19T12:58:10.949806Z",
     "iopub.status.idle": "2024-11-19T12:58:10.952655Z",
     "shell.execute_reply": "2024-11-19T12:58:10.952354Z"
    },
    "tags": []
   },
   "outputs": [
    {
     "data": {
      "text/plain": [
       "Vector3(0, 0, 1)"
      ]
     },
     "execution_count": 5,
     "metadata": {},
     "output_type": "execute_result"
    }
   ],
   "source": [
    "F.I @ u"
   ]
  },
  {
   "cell_type": "markdown",
   "metadata": {},
   "source": [
    "To transpose matrix, we can use `T` property and for multiplification we have to use `@` operator"
   ]
  },
  {
   "cell_type": "code",
   "execution_count": 6,
   "metadata": {
    "execution": {
     "iopub.execute_input": "2024-11-19T12:58:10.953942Z",
     "iopub.status.busy": "2024-11-19T12:58:10.953750Z",
     "iopub.status.idle": "2024-11-19T12:58:10.956647Z",
     "shell.execute_reply": "2024-11-19T12:58:10.956334Z"
    },
    "tags": []
   },
   "outputs": [
    {
     "data": {
      "text/plain": [
       "DeformationGradient3\n",
       "[[4.   0.   2.  ]\n",
       " [0.   1.   0.  ]\n",
       " [2.   0.   1.25]]"
      ]
     },
     "execution_count": 6,
     "metadata": {},
     "output_type": "execute_result"
    }
   ],
   "source": [
    "F.T @ F"
   ]
  },
  {
   "cell_type": "code",
   "execution_count": 7,
   "metadata": {
    "execution": {
     "iopub.execute_input": "2024-11-19T12:58:10.957820Z",
     "iopub.status.busy": "2024-11-19T12:58:10.957687Z",
     "iopub.status.idle": "2024-11-19T12:58:10.960420Z",
     "shell.execute_reply": "2024-11-19T12:58:10.960117Z"
    },
    "tags": []
   },
   "outputs": [
    {
     "data": {
      "text/plain": [
       "1.25"
      ]
     },
     "execution_count": 7,
     "metadata": {},
     "output_type": "execute_result"
    }
   ],
   "source": [
    "v @ F.T @ F @ v"
   ]
  },
  {
   "cell_type": "markdown",
   "metadata": {},
   "source": [
    "Eigenvalues and eigenvectors could be obtained by methods `eigenvalues` and `eigenvectors`. Individual eigenvalues and eigen vectors could be accessed by properties `E1`, `E2`, `E3` and `V1`, `V2`, `V3`"
   ]
  },
  {
   "cell_type": "markdown",
   "metadata": {},
   "source": [
    "#### Deformation gradient and rotations\n",
    "\n",
    "Deformation gradient `DeformationGradient3` could describe distorsion, dilation and rigid-body rotation. All **APSG** features provides `transform` method which transform then using provided deformation gradient.\n",
    "\n",
    "The rigid-body rotation could be either extracted from deformation gradient using `R` method:"
   ]
  },
  {
   "cell_type": "code",
   "execution_count": 8,
   "metadata": {
    "execution": {
     "iopub.execute_input": "2024-11-19T12:58:10.961691Z",
     "iopub.status.busy": "2024-11-19T12:58:10.961539Z",
     "iopub.status.idle": "2024-11-19T12:58:10.964664Z",
     "shell.execute_reply": "2024-11-19T12:58:10.964363Z"
    },
    "tags": []
   },
   "outputs": [
    {
     "data": {
      "text/plain": [
       "DeformationGradient3\n",
       "[[ 0.928  0.     0.371]\n",
       " [ 0.     1.     0.   ]\n",
       " [-0.371  0.     0.928]]"
      ]
     },
     "execution_count": 8,
     "metadata": {},
     "output_type": "execute_result"
    }
   ],
   "source": [
    "R = F.R\n",
    "R"
   ]
  },
  {
   "cell_type": "markdown",
   "metadata": {},
   "source": [
    "or could be created of one of the class methods like `from_axisangle`, defining axis of rotation and angle"
   ]
  },
  {
   "cell_type": "code",
   "execution_count": 9,
   "metadata": {
    "execution": {
     "iopub.execute_input": "2024-11-19T12:58:10.965893Z",
     "iopub.status.busy": "2024-11-19T12:58:10.965743Z",
     "iopub.status.idle": "2024-11-19T12:58:10.968657Z",
     "shell.execute_reply": "2024-11-19T12:58:10.968352Z"
    },
    "tags": []
   },
   "outputs": [
    {
     "data": {
      "text/plain": [
       "DeformationGradient3\n",
       "[[ 0.552 -0.753  0.359]\n",
       " [ 0.574  0.655  0.492]\n",
       " [-0.605 -0.065  0.793]]"
      ]
     },
     "execution_count": 9,
     "metadata": {},
     "output_type": "execute_result"
    }
   ],
   "source": [
    "R = defgrad.from_axisangle(lin(120, 50), 60)\n",
    "R"
   ]
  },
  {
   "cell_type": "markdown",
   "metadata": {},
   "source": [
    "`from_two_vectors`, where axis of rotation is perpendicular to both vectors and angle is angle of vectors"
   ]
  },
  {
   "cell_type": "code",
   "execution_count": 10,
   "metadata": {
    "execution": {
     "iopub.execute_input": "2024-11-19T12:58:10.969947Z",
     "iopub.status.busy": "2024-11-19T12:58:10.969756Z",
     "iopub.status.idle": "2024-11-19T12:58:10.972805Z",
     "shell.execute_reply": "2024-11-19T12:58:10.972493Z"
    },
    "tags": []
   },
   "outputs": [
    {
     "data": {
      "text/plain": [
       "DeformationGradient3\n",
       "[[ 0.938  0.074  0.339]\n",
       " [ 0.186  0.718 -0.671]\n",
       " [-0.294  0.692  0.66 ]]"
      ]
     },
     "execution_count": 10,
     "metadata": {},
     "output_type": "execute_result"
    }
   ],
   "source": [
    "R = defgrad.from_two_vectors(lin(120, 50), lin(270, 80))\n",
    "R"
   ]
  },
  {
   "cell_type": "code",
   "execution_count": 11,
   "metadata": {
    "execution": {
     "iopub.execute_input": "2024-11-19T12:58:10.974035Z",
     "iopub.status.busy": "2024-11-19T12:58:10.973840Z",
     "iopub.status.idle": "2024-11-19T12:58:10.976591Z",
     "shell.execute_reply": "2024-11-19T12:58:10.976294Z"
    },
    "tags": []
   },
   "outputs": [
    {
     "data": {
      "text/plain": [
       "L:270/80"
      ]
     },
     "execution_count": 11,
     "metadata": {},
     "output_type": "execute_result"
    }
   ],
   "source": [
    "lin(120, 50).transform(R)"
   ]
  },
  {
   "cell_type": "markdown",
   "metadata": {},
   "source": [
    "or by `from_vectors_axis`, where `axis` do not need to by perpendicular to vectors. Note that rotation axis needs to be adjusted to provide correct rotation of vector."
   ]
  },
  {
   "cell_type": "code",
   "execution_count": 12,
   "metadata": {
    "execution": {
     "iopub.execute_input": "2024-11-19T12:58:10.977888Z",
     "iopub.status.busy": "2024-11-19T12:58:10.977692Z",
     "iopub.status.idle": "2024-11-19T12:58:10.981101Z",
     "shell.execute_reply": "2024-11-19T12:58:10.980742Z"
    },
    "tags": []
   },
   "outputs": [
    {
     "data": {
      "text/plain": [
       "DeformationGradient3\n",
       "[[-0.393 -0.864  0.315]\n",
       " [ 0.864 -0.23   0.448]\n",
       " [-0.315  0.448  0.837]]"
      ]
     },
     "execution_count": 12,
     "metadata": {},
     "output_type": "execute_result"
    }
   ],
   "source": [
    "R = defgrad.from_vectors_axis(lin(45,30), lin(135, 30), lin(90, 70))\n",
    "R"
   ]
  },
  {
   "cell_type": "code",
   "execution_count": 13,
   "metadata": {
    "execution": {
     "iopub.execute_input": "2024-11-19T12:58:10.982353Z",
     "iopub.status.busy": "2024-11-19T12:58:10.982163Z",
     "iopub.status.idle": "2024-11-19T12:58:10.984903Z",
     "shell.execute_reply": "2024-11-19T12:58:10.984603Z"
    },
    "tags": []
   },
   "outputs": [
    {
     "data": {
      "text/plain": [
       "L:135/30"
      ]
     },
     "execution_count": 13,
     "metadata": {},
     "output_type": "execute_result"
    }
   ],
   "source": [
    "lin(45,30).transform(R)"
   ]
  },
  {
   "cell_type": "code",
   "execution_count": 14,
   "metadata": {
    "execution": {
     "iopub.execute_input": "2024-11-19T12:58:10.986149Z",
     "iopub.status.busy": "2024-11-19T12:58:10.985919Z",
     "iopub.status.idle": "2024-11-19T12:58:10.988668Z",
     "shell.execute_reply": "2024-11-19T12:58:10.988352Z"
    },
    "tags": []
   },
   "outputs": [
    {
     "name": "stdout",
     "output_type": "stream",
     "text": [
      "L:90/70 113.11571469196132\n"
     ]
    }
   ],
   "source": [
    "a, ang = R.axisangle()\n",
    "print(lin(a), ang)"
   ]
  },
  {
   "cell_type": "markdown",
   "metadata": {},
   "source": [
    "`from_two_pairs` method, to describe rotation between two coordinate systems. Note that pair define X axis as lineation vector and Z axis as foliation vector."
   ]
  },
  {
   "cell_type": "code",
   "execution_count": 15,
   "metadata": {
    "execution": {
     "iopub.execute_input": "2024-11-19T12:58:10.989942Z",
     "iopub.status.busy": "2024-11-19T12:58:10.989748Z",
     "iopub.status.idle": "2024-11-19T12:58:10.994057Z",
     "shell.execute_reply": "2024-11-19T12:58:10.993740Z"
    },
    "tags": []
   },
   "outputs": [
    {
     "data": {
      "text/plain": [
       "DeformationGradient3\n",
       "[[-0.071  0.97   0.234]\n",
       " [-0.874 -0.174  0.453]\n",
       " [ 0.48  -0.173  0.86 ]]"
      ]
     },
     "execution_count": 15,
     "metadata": {},
     "output_type": "execute_result"
    }
   ],
   "source": [
    "p1 = pair(150, 60, 90, 40)\n",
    "p2 = pair(45, 30, 10, 25)\n",
    "R = defgrad.from_two_pairs(p1, p2)\n",
    "R"
   ]
  },
  {
   "cell_type": "code",
   "execution_count": 16,
   "metadata": {
    "execution": {
     "iopub.execute_input": "2024-11-19T12:58:10.995282Z",
     "iopub.status.busy": "2024-11-19T12:58:10.995098Z",
     "iopub.status.idle": "2024-11-19T12:58:10.998170Z",
     "shell.execute_reply": "2024-11-19T12:58:10.997867Z"
    },
    "tags": []
   },
   "outputs": [
    {
     "data": {
      "text/plain": [
       "P:45/30-10/25"
      ]
     },
     "execution_count": 16,
     "metadata": {},
     "output_type": "execute_result"
    }
   ],
   "source": [
    "p1.transform(R)"
   ]
  },
  {
   "cell_type": "markdown",
   "metadata": {},
   "source": [
    "### Ellipsoid\n",
    "\n",
    "In deformation analysis, the quadratic forms are represented by `Ellipsoid` class. It could be used to represents either ellipsoid objects or finite strain ellipsoid.\n",
    "\n",
    "It provides additional methods and properties including `lambda1`, `lambda2` and `lambda3` for square-root of eigenvalues, Woodcock's `shape` and `strength`, `k`, `K`, `d` and `D` for Flinn's and Ramsay symmetries and intensities, `lode` for Lode's parameter etc. For more check documentation. Eigenvectors could be also represented by linear or planar features using properties `eigenlins` and `eigenfols`.\n",
    "\n",
    "We can create `Ellipsoid` object similarly to `Matrix3` (note that only components of upper triangular part are available in `from_comp` method due to matrix symmetry), or you can use aditional class methods `from_defgrad` and `from_stretch`."
   ]
  },
  {
   "cell_type": "code",
   "execution_count": 17,
   "metadata": {
    "execution": {
     "iopub.execute_input": "2024-11-19T12:58:10.999462Z",
     "iopub.status.busy": "2024-11-19T12:58:10.999276Z",
     "iopub.status.idle": "2024-11-19T12:58:11.002190Z",
     "shell.execute_reply": "2024-11-19T12:58:11.001897Z"
    },
    "tags": []
   },
   "outputs": [
    {
     "data": {
      "text/plain": [
       "Ellipsoid\n",
       "[[5.   0.   0.5 ]\n",
       " [0.   1.   0.  ]\n",
       " [0.5  0.   0.25]]\n",
       "(S1:2.25, S2:1, S3:0.445)"
      ]
     },
     "execution_count": 17,
     "metadata": {},
     "output_type": "execute_result"
    }
   ],
   "source": [
    "B = ellipsoid.from_defgrad(F)  # Finger deformation tensor\n",
    "B"
   ]
  },
  {
   "cell_type": "markdown",
   "metadata": {},
   "source": [
    "In above example, the Finger deformation tensor `B` represents finite strain ellipsoid reulting from deformation described by deformation gradient `F`. We can explore several parameters:"
   ]
  },
  {
   "cell_type": "code",
   "execution_count": 18,
   "metadata": {
    "execution": {
     "iopub.execute_input": "2024-11-19T12:58:11.003537Z",
     "iopub.status.busy": "2024-11-19T12:58:11.003303Z",
     "iopub.status.idle": "2024-11-19T12:58:11.006535Z",
     "shell.execute_reply": "2024-11-19T12:58:11.006219Z"
    },
    "tags": []
   },
   "outputs": [
    {
     "name": "stdout",
     "output_type": "stream",
     "text": [
      "Principal stretches: Sx=2.2476790206496235, Sy=1.0, Sz=0.44490338291762865\n",
      "Principal strain ratios: Rxy=2.2476790206496235, Ryz=2.2476790206496235\n",
      "Flinn's finite strain parameters: d=1.7644845924910786, k=1.0\n",
      "Ramsay's finite strain parameters: d=1.3118699860194973, k=1.0\n",
      "Woodcock's parameters: strength=1.6197962748565002, shape=1.0\n",
      "Watterson's strain intesity: s3.495358041299247\n",
      "Nadai's natural octahedral unit shear: 1.3225581202197996\n",
      "Nadai's natural octahedral unit strain: 1.14536893009174\n",
      "Lode's parameter: 0.0\n"
     ]
    }
   ],
   "source": [
    "print(f'Principal stretches: Sx={B.S1}, Sy={B.S2}, Sz={B.S3}')\n",
    "print(f'Principal strain ratios: Rxy={B.Rxy}, Ryz={B.Ryz}')\n",
    "print(f\"Flinn's finite strain parameters: d={B.d}, k={B.k}\")\n",
    "print(f\"Ramsay's finite strain parameters: d={B.D}, k={B.K}\")\n",
    "print(f\"Woodcock's parameters: strength={B.strength}, shape={B.shape}\")\n",
    "print(f\"Watterson's strain intesity: s{B.r}\")\n",
    "print(f\"Nadai's natural octahedral unit shear: {B.goct}\")\n",
    "print(f\"Nadai's natural octahedral unit strain: {B.eoct}\")\n",
    "print(f\"Lode's parameter: {B.lode}\")"
   ]
  },
  {
   "cell_type": "code",
   "execution_count": 19,
   "metadata": {
    "execution": {
     "iopub.execute_input": "2024-11-19T12:58:11.007793Z",
     "iopub.status.busy": "2024-11-19T12:58:11.007613Z",
     "iopub.status.idle": "2024-11-19T12:58:11.010348Z",
     "shell.execute_reply": "2024-11-19T12:58:11.010073Z"
    },
    "tags": []
   },
   "outputs": [
    {
     "data": {
      "text/plain": [
       "Ellipsoid\n",
       "[[4.   0.   2.  ]\n",
       " [0.   1.   0.  ]\n",
       " [2.   0.   1.25]]\n",
       "(S1:2.25, S2:1, S3:0.445)"
      ]
     },
     "execution_count": 19,
     "metadata": {},
     "output_type": "execute_result"
    }
   ],
   "source": [
    "C = ellipsoid.from_defgrad(F, 'right')  # Green's deformation tensor\n",
    "C"
   ]
  },
  {
   "cell_type": "code",
   "execution_count": 20,
   "metadata": {
    "execution": {
     "iopub.execute_input": "2024-11-19T12:58:11.011577Z",
     "iopub.status.busy": "2024-11-19T12:58:11.011344Z",
     "iopub.status.idle": "2024-11-19T12:58:11.013769Z",
     "shell.execute_reply": "2024-11-19T12:58:11.013496Z"
    },
    "tags": []
   },
   "outputs": [
    {
     "data": {
      "text/plain": [
       "1.25"
      ]
     },
     "execution_count": 20,
     "metadata": {},
     "output_type": "execute_result"
    }
   ],
   "source": [
    "v @ C @ v"
   ]
  },
  {
   "cell_type": "markdown",
   "metadata": {},
   "source": [
    "### Orientation tensor\n",
    "`OrientationTensor3` class represents orientation tensor of set of vectors, linear or planar features. In adition to `Ellipsoid` methods and properties, it provides properties to describe orientation distribution, e.g. Vollmer's `P`, `G`, `R` and `B` indexes, `Intensity` for Lisle intensity index and `MAD` for approximate angular deviation."
   ]
  },
  {
   "cell_type": "code",
   "execution_count": 21,
   "metadata": {
    "execution": {
     "iopub.execute_input": "2024-11-19T12:58:11.015033Z",
     "iopub.status.busy": "2024-11-19T12:58:11.014821Z",
     "iopub.status.idle": "2024-11-19T12:58:11.025614Z",
     "shell.execute_reply": "2024-11-19T12:58:11.025297Z"
    },
    "tags": []
   },
   "outputs": [
    {
     "data": {
      "text/plain": [
       "OrientationTensor3\n",
       "[[ 0.168 -0.214 -0.199]\n",
       " [-0.214  0.427  0.36 ]\n",
       " [-0.199  0.36   0.406]]\n",
       "(S1:0.945, S2:0.245, S3:0.217)"
      ]
     },
     "execution_count": 21,
     "metadata": {},
     "output_type": "execute_result"
    }
   ],
   "source": [
    "l = linset.random_fisher(position=lin(120,40))\n",
    "ot = l.ortensor()\n",
    "# or\n",
    "ot = ortensor.from_features(l)\n",
    "ot"
   ]
  },
  {
   "cell_type": "code",
   "execution_count": 22,
   "metadata": {
    "execution": {
     "iopub.execute_input": "2024-11-19T12:58:11.026912Z",
     "iopub.status.busy": "2024-11-19T12:58:11.026656Z",
     "iopub.status.idle": "2024-11-19T12:58:11.029201Z",
     "shell.execute_reply": "2024-11-19T12:58:11.028933Z"
    },
    "tags": []
   },
   "outputs": [
    {
     "data": {
      "text/plain": [
       "array([0.89309091, 0.05996925, 0.04693984])"
      ]
     },
     "execution_count": 22,
     "metadata": {},
     "output_type": "execute_result"
    }
   ],
   "source": [
    "ot.eigenvalues()"
   ]
  },
  {
   "cell_type": "code",
   "execution_count": 23,
   "metadata": {
    "execution": {
     "iopub.execute_input": "2024-11-19T12:58:11.030486Z",
     "iopub.status.busy": "2024-11-19T12:58:11.030272Z",
     "iopub.status.idle": "2024-11-19T12:58:11.032708Z",
     "shell.execute_reply": "2024-11-19T12:58:11.032432Z"
    },
    "tags": []
   },
   "outputs": [
    {
     "data": {
      "text/plain": [
       "(Vector3(-0.373, 0.668, 0.644),\n",
       " Vector3(0.483, -0.453, 0.749),\n",
       " Vector3(0.792, 0.591, -0.154))"
      ]
     },
     "execution_count": 23,
     "metadata": {},
     "output_type": "execute_result"
    }
   ],
   "source": [
    "ot.eigenvectors()"
   ]
  },
  {
   "cell_type": "code",
   "execution_count": 24,
   "metadata": {
    "execution": {
     "iopub.execute_input": "2024-11-19T12:58:11.034002Z",
     "iopub.status.busy": "2024-11-19T12:58:11.033791Z",
     "iopub.status.idle": "2024-11-19T12:58:11.036161Z",
     "shell.execute_reply": "2024-11-19T12:58:11.035888Z"
    },
    "tags": []
   },
   "outputs": [
    {
     "data": {
      "text/plain": [
       "'L'"
      ]
     },
     "execution_count": 24,
     "metadata": {},
     "output_type": "execute_result"
    }
   ],
   "source": [
    "ot.kind"
   ]
  },
  {
   "cell_type": "markdown",
   "metadata": {},
   "source": [
    "The instances of `Stress3`, `Ellipsoid` and `OrientationTensor3` also provides `eigenlins` and `eigenfols` properties to represent principal axes and planes"
   ]
  },
  {
   "cell_type": "code",
   "execution_count": 25,
   "metadata": {
    "execution": {
     "iopub.execute_input": "2024-11-19T12:58:11.037390Z",
     "iopub.status.busy": "2024-11-19T12:58:11.037266Z",
     "iopub.status.idle": "2024-11-19T12:58:11.039810Z",
     "shell.execute_reply": "2024-11-19T12:58:11.039531Z"
    },
    "tags": []
   },
   "outputs": [
    {
     "data": {
      "text/plain": [
       "(L:119/40, L:317/49, L:217/9)"
      ]
     },
     "execution_count": 25,
     "metadata": {},
     "output_type": "execute_result"
    }
   ],
   "source": [
    "ot.eigenlins()"
   ]
  },
  {
   "cell_type": "code",
   "execution_count": 26,
   "metadata": {
    "execution": {
     "iopub.execute_input": "2024-11-19T12:58:11.041152Z",
     "iopub.status.busy": "2024-11-19T12:58:11.040887Z",
     "iopub.status.idle": "2024-11-19T12:58:11.043429Z",
     "shell.execute_reply": "2024-11-19T12:58:11.043167Z"
    },
    "tags": []
   },
   "outputs": [
    {
     "data": {
      "text/plain": [
       "(S:299/50, S:137/41, S:37/81)"
      ]
     },
     "execution_count": 26,
     "metadata": {},
     "output_type": "execute_result"
    }
   ],
   "source": [
    "ot.eigenfols()"
   ]
  },
  {
   "cell_type": "code",
   "execution_count": 27,
   "metadata": {
    "execution": {
     "iopub.execute_input": "2024-11-19T12:58:11.044708Z",
     "iopub.status.busy": "2024-11-19T12:58:11.044438Z",
     "iopub.status.idle": "2024-11-19T12:58:11.046770Z",
     "shell.execute_reply": "2024-11-19T12:58:11.046498Z"
    },
    "tags": []
   },
   "outputs": [
    {
     "data": {
      "text/plain": [
       "(1.472910796354639, 11.025471401415164)"
      ]
     },
     "execution_count": 27,
     "metadata": {},
     "output_type": "execute_result"
    }
   ],
   "source": [
    "ot.strength, ot.shape"
   ]
  },
  {
   "cell_type": "code",
   "execution_count": 28,
   "metadata": {
    "execution": {
     "iopub.execute_input": "2024-11-19T12:58:11.047954Z",
     "iopub.status.busy": "2024-11-19T12:58:11.047767Z",
     "iopub.status.idle": "2024-11-19T12:58:11.050001Z",
     "shell.execute_reply": "2024-11-19T12:58:11.049738Z"
    },
    "tags": []
   },
   "outputs": [
    {
     "data": {
      "text/plain": [
       "(21.942364718173156, 2.8620452755244647)"
      ]
     },
     "execution_count": 28,
     "metadata": {},
     "output_type": "execute_result"
    }
   ],
   "source": [
    "ot.k, ot.d"
   ]
  },
  {
   "cell_type": "code",
   "execution_count": 29,
   "metadata": {
    "execution": {
     "iopub.execute_input": "2024-11-19T12:58:11.051191Z",
     "iopub.status.busy": "2024-11-19T12:58:11.051002Z",
     "iopub.status.idle": "2024-11-19T12:58:11.053278Z",
     "shell.execute_reply": "2024-11-19T12:58:11.053012Z"
    },
    "tags": []
   },
   "outputs": [
    {
     "data": {
      "text/plain": [
       "(11.025471401415164, 1.838658343110553)"
      ]
     },
     "execution_count": 29,
     "metadata": {},
     "output_type": "execute_result"
    }
   ],
   "source": [
    "ot.K, ot.D"
   ]
  },
  {
   "cell_type": "code",
   "execution_count": 30,
   "metadata": {
    "execution": {
     "iopub.execute_input": "2024-11-19T12:58:11.054525Z",
     "iopub.status.busy": "2024-11-19T12:58:11.054286Z",
     "iopub.status.idle": "2024-11-19T12:58:11.057293Z",
     "shell.execute_reply": "2024-11-19T12:58:11.056942Z"
    },
    "tags": []
   },
   "outputs": [
    {
     "data": {
      "text/plain": [
       "(0.8331216575753987, 0.026058822050085903, 0.1408195203745154)"
      ]
     },
     "execution_count": 30,
     "metadata": {},
     "output_type": "execute_result"
    }
   ],
   "source": [
    "ot.P, ot.G, ot.R"
   ]
  },
  {
   "cell_type": "code",
   "execution_count": 31,
   "metadata": {
    "execution": {
     "iopub.execute_input": "2024-11-19T12:58:11.058633Z",
     "iopub.status.busy": "2024-11-19T12:58:11.058404Z",
     "iopub.status.idle": "2024-11-19T12:58:11.061091Z",
     "shell.execute_reply": "2024-11-19T12:58:11.060734Z"
    },
    "tags": []
   },
   "outputs": [
    {
     "data": {
      "text/plain": [
       "19.08494279031384"
      ]
     },
     "execution_count": 31,
     "metadata": {},
     "output_type": "execute_result"
    }
   ],
   "source": [
    "ot.MAD"
   ]
  },
  {
   "cell_type": "code",
   "execution_count": null,
   "metadata": {},
   "outputs": [],
   "source": []
  }
 ],
 "metadata": {
  "kernelspec": {
   "display_name": "Python 3 (ipykernel)",
   "language": "python",
   "name": "python3"
  },
  "language_info": {
   "codemirror_mode": {
    "name": "ipython",
    "version": 3
   },
   "file_extension": ".py",
   "mimetype": "text/x-python",
   "name": "python",
   "nbconvert_exporter": "python",
   "pygments_lexer": "ipython3",
   "version": "3.12.3"
  }
 },
 "nbformat": 4,
 "nbformat_minor": 4
}
